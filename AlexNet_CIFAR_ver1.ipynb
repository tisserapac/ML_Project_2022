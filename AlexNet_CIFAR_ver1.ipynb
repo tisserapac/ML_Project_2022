{
  "cells": [
    {
      "cell_type": "markdown",
      "metadata": {
        "id": "view-in-github",
        "colab_type": "text"
      },
      "source": [
        "<a href=\"https://colab.research.google.com/github/tisserapac/ML_Project_2022/blob/main/AlexNet_CIFAR_ver1.ipynb\" target=\"_parent\"><img src=\"https://colab.research.google.com/assets/colab-badge.svg\" alt=\"Open In Colab\"/></a>"
      ]
    },
    {
      "cell_type": "markdown",
      "source": [
        "##Name : Anjana Tissera\n",
        "\n",
        "##Stident ID : st123459"
      ],
      "metadata": {
        "id": "Iz8e4YIyFZve"
      },
      "id": "Iz8e4YIyFZve"
    },
    {
      "cell_type": "markdown",
      "source": [
        "# AlexNet for CIFAR-10 Dataset - Version 1\n",
        "- The primary goal of this experiment was to train and evaluate PyTorch's AlexNet model architecture available at torchvision.models.alexnet on the CIFAR-10 dataset."
      ],
      "metadata": {
        "id": "E5esVL623kNL"
      },
      "id": "E5esVL623kNL"
    },
    {
      "cell_type": "markdown",
      "source": [
        "#1. Setup the environment"
      ],
      "metadata": {
        "id": "cncsLtxnyFWd"
      },
      "id": "cncsLtxnyFWd"
    },
    {
      "cell_type": "code",
      "execution_count": 32,
      "id": "3defb7b8",
      "metadata": {
        "id": "3defb7b8"
      },
      "outputs": [],
      "source": [
        "#Import the necessary packages\n",
        "from torch.utils.data import DataLoader\n",
        "from torchvision import datasets\n",
        "from torchvision import models\n",
        "from torchvision.models import AlexNet_Weights\n",
        "from torchvision import transforms\n",
        "from tqdm import tqdm\n",
        "from torch import nn\n",
        "import matplotlib.pyplot as plt\n",
        "from imutils import paths\n",
        "import numpy as np\n",
        "import shutil\n",
        "import torch\n",
        "import time\n",
        "import os"
      ]
    },
    {
      "cell_type": "code",
      "source": [
        "from google.colab import drive\n",
        "drive.mount('/content/drive')"
      ],
      "metadata": {
        "colab": {
          "base_uri": "https://localhost:8080/",
          "height": 0
        },
        "id": "nUQyOTDxuTM7",
        "outputId": "9e0a399d-c2a1-42d7-c58a-8f5a04abd3e6"
      },
      "id": "nUQyOTDxuTM7",
      "execution_count": 33,
      "outputs": [
        {
          "output_type": "stream",
          "name": "stdout",
          "text": [
            "Drive already mounted at /content/drive; to attempt to forcibly remount, call drive.mount(\"/content/drive\", force_remount=True).\n"
          ]
        }
      ]
    },
    {
      "cell_type": "code",
      "source": [
        "gpu_info = !nvidia-smi\n",
        "gpu_info = '\\n'.join(gpu_info)\n",
        "if gpu_info.find('failed') >= 0:\n",
        "  print('Not connected to a GPU')\n",
        "else:\n",
        "  print(gpu_info)"
      ],
      "metadata": {
        "colab": {
          "base_uri": "https://localhost:8080/",
          "height": 0
        },
        "id": "Pb-LgBsdvDpM",
        "outputId": "b11f8bfb-db20-47bd-90ea-dd8f6117b94a"
      },
      "id": "Pb-LgBsdvDpM",
      "execution_count": 34,
      "outputs": [
        {
          "output_type": "stream",
          "name": "stdout",
          "text": [
            "Fri Jan 20 14:11:53 2023       \n",
            "+-----------------------------------------------------------------------------+\n",
            "| NVIDIA-SMI 460.32.03    Driver Version: 460.32.03    CUDA Version: 11.2     |\n",
            "|-------------------------------+----------------------+----------------------+\n",
            "| GPU  Name        Persistence-M| Bus-Id        Disp.A | Volatile Uncorr. ECC |\n",
            "| Fan  Temp  Perf  Pwr:Usage/Cap|         Memory-Usage | GPU-Util  Compute M. |\n",
            "|                               |                      |               MIG M. |\n",
            "|===============================+======================+======================|\n",
            "|   0  A100-SXM4-40GB      Off  | 00000000:00:04.0 Off |                    0 |\n",
            "| N/A   36C    P0    49W / 400W |   3288MiB / 40536MiB |      0%      Default |\n",
            "|                               |                      |             Disabled |\n",
            "+-------------------------------+----------------------+----------------------+\n",
            "                                                                               \n",
            "+-----------------------------------------------------------------------------+\n",
            "| Processes:                                                                  |\n",
            "|  GPU   GI   CI        PID   Type   Process name                  GPU Memory |\n",
            "|        ID   ID                                                   Usage      |\n",
            "|=============================================================================|\n",
            "+-----------------------------------------------------------------------------+\n"
          ]
        }
      ]
    },
    {
      "cell_type": "code",
      "source": [
        "def get_default_device():\n",
        "    if torch.cuda.is_available():\n",
        "        return torch.device('cuda')\n",
        "    else:\n",
        "        return torch.device('cpu')"
      ],
      "metadata": {
        "id": "YtMRoHVhwRdQ"
      },
      "id": "YtMRoHVhwRdQ",
      "execution_count": 35,
      "outputs": []
    },
    {
      "cell_type": "code",
      "execution_count": 55,
      "id": "d9966dc9",
      "metadata": {
        "id": "d9966dc9"
      },
      "outputs": [],
      "source": [
        "#Specify ImageNet mean and standard deviation and image size\n",
        "MEAN = [0.49139968, 0.48215827 ,0.44653124]\n",
        "STD = [0.24703233, 0.24348505, 0.26158768]\n",
        "IMAGE_SIZE = 224\n",
        "\n",
        "# determine the device to be used for training and evaluation\n",
        "DEVICE = get_default_device()\n",
        "\n",
        "DS_PATH = '/content/drive/MyDrive/RTML2023/dataset'\n",
        "\n",
        "# specify training hyperparameters\n",
        "BATCH_SIZE = 64\n",
        "PRED_BATCH_SIZE = 64\n",
        "EPOCHS = 100\n",
        "LR = 0.001\n",
        "MOMENTUM = 0.9\n",
        "\n",
        "NUM_CLASSES = 10\n",
        "\n",
        "LOSS_PLOT_PATH = '/content/drive/MyDrive/RTML2023/plots/AlexNet_CIFAR_ver1_Loss.png'\n",
        "ACC_PLOT_PATH = '/content/drive/MyDrive/RTML2023/plots/AlexNet_CIFAR_ver1_Acc.png'\n",
        "MODEL_PATH = '/content/drive/MyDrive/RTML2023/models/AlexNet_CIFAR_ver1.pth'\n",
        "HISTORY_PATH = '/content/drive/MyDrive/RTML2023/history/AlexNet_CIFAR_ver1.pt'\n",
        "STATE_PATH = '/content/drive/MyDrive/RTML2023/state/AlexNet_CIFAR_ver1.pt'"
      ]
    },
    {
      "cell_type": "markdown",
      "source": [
        "#2. Transforms"
      ],
      "metadata": {
        "id": "SYxo-kAzygM7"
      },
      "id": "SYxo-kAzygM7"
    },
    {
      "cell_type": "code",
      "execution_count": 38,
      "id": "a4ec8552",
      "metadata": {
        "id": "a4ec8552"
      },
      "outputs": [],
      "source": [
        "# Transforms\n",
        "transform = transforms.Compose([\n",
        "    transforms.Resize(256),\n",
        "    transforms.CenterCrop(224),\n",
        "    transforms.ToTensor(),\n",
        "    transforms.Normalize((0.4914, 0.4822, 0.4465), (0.2470, 0.2435, 0.2616))])"
      ]
    },
    {
      "cell_type": "markdown",
      "source": [
        "#3. Dataloaders"
      ],
      "metadata": {
        "id": "jtnG_Fz8yuWD"
      },
      "id": "jtnG_Fz8yuWD"
    },
    {
      "cell_type": "code",
      "source": [
        "# Datasets\n",
        "train_dataset = datasets.CIFAR10(root=DS_PATH, train=True,\n",
        "                                             download=True, transform=transform)\n",
        "\n",
        "train_dataset, val_dataset = torch.utils.data.random_split(train_dataset, [40000, 10000])\n",
        "\n",
        "test_dataset = datasets.CIFAR10(root=DS_PATH, train=False,\n",
        "                                            download=True, transform=transform)\n",
        "\n",
        "# Dataloaders\n",
        "train_dataloader = torch.utils.data.DataLoader(train_dataset, batch_size=BATCH_SIZE,\n",
        "                                               shuffle=True, num_workers=2)\n",
        "val_dataloader = torch.utils.data.DataLoader(val_dataset, batch_size=BATCH_SIZE,\n",
        "                                             shuffle=False, num_workers=2)\n",
        "test_dataloader = torch.utils.data.DataLoader(test_dataset, batch_size=BATCH_SIZE,\n",
        "                                              shuffle=False, num_workers=2)"
      ],
      "metadata": {
        "colab": {
          "base_uri": "https://localhost:8080/",
          "height": 101,
          "referenced_widgets": [
            "54c7c720f17e47108996860f111f14fe",
            "c6e6c27188cd46ceaaa497b05d708431",
            "cc03b7cc89d34c5ca10c743b4768bdb7",
            "239e71fe9b1e43dca47a756fb24faf1b",
            "673ce35f594c468fbccd45d539367331",
            "251daf17599049ef827f5b429c51473f",
            "d7c1849e121843d387d841f3a0aa1f56",
            "41665bc57326441c90e0071ffe36e73f",
            "5f4b9f2fcdd34da9bd72668b5e0dbf6a",
            "d501bbda52dd440686835a432951c365",
            "b3227221b46d43a492455ceab7f911aa"
          ]
        },
        "id": "WxwI71qmOGgN",
        "outputId": "3daa0d5e-b12a-4642-d229-62abeaf50045"
      },
      "id": "WxwI71qmOGgN",
      "execution_count": 39,
      "outputs": [
        {
          "output_type": "stream",
          "name": "stdout",
          "text": [
            "Downloading https://www.cs.toronto.edu/~kriz/cifar-10-python.tar.gz to /content/drive/MyDrive/RTML2023/dataset/cifar-10-python.tar.gz\n"
          ]
        },
        {
          "output_type": "display_data",
          "data": {
            "text/plain": [
              "  0%|          | 0/170498071 [00:00<?, ?it/s]"
            ],
            "application/vnd.jupyter.widget-view+json": {
              "version_major": 2,
              "version_minor": 0,
              "model_id": "54c7c720f17e47108996860f111f14fe"
            }
          },
          "metadata": {}
        },
        {
          "output_type": "stream",
          "name": "stdout",
          "text": [
            "Extracting /content/drive/MyDrive/RTML2023/dataset/cifar-10-python.tar.gz to /content/drive/MyDrive/RTML2023/dataset\n",
            "Files already downloaded and verified\n"
          ]
        }
      ]
    },
    {
      "cell_type": "markdown",
      "source": [
        "#4. AlexNet Model\n",
        "- "
      ],
      "metadata": {
        "id": "25qw8Itny4RA"
      },
      "id": "25qw8Itny4RA"
    },
    {
      "cell_type": "markdown",
      "source": [
        "## 4.1 Initializations"
      ],
      "metadata": {
        "id": "_ufCbKkWVtMp"
      },
      "id": "_ufCbKkWVtMp"
    },
    {
      "cell_type": "code",
      "source": [
        "# Create model\n",
        "model = models.alexnet(weights=None)\n",
        "\n",
        "for param in model.parameters():\n",
        "\tparam.requires_grad = True\n",
        "\n",
        "model.classifier[6] = nn.Linear(in_features=4096, out_features=NUM_CLASSES)\n",
        "\n",
        "# set device\n",
        "model = model.to(DEVICE)\n",
        "\n",
        "# calculate steps per epoch for training and validation set\n",
        "trainSteps = len(train_dataset) // BATCH_SIZE\n",
        "valSteps = len(val_dataset) // BATCH_SIZE\n",
        "\n",
        "# initialize a dictionary to store training history\n",
        "H = {\"train_loss\": [], \"train_acc\": [], \"val_loss\": [], \"val_acc\": []}\n",
        "H_batch = {\"batch_train_loss\": []}"
      ],
      "metadata": {
        "id": "inzIVRgJVrhy"
      },
      "id": "inzIVRgJVrhy",
      "execution_count": 42,
      "outputs": []
    },
    {
      "cell_type": "code",
      "source": [
        "model"
      ],
      "metadata": {
        "colab": {
          "base_uri": "https://localhost:8080/",
          "height": 0
        },
        "id": "x9_KUk3gsx4W",
        "outputId": "ea60d6f7-19ef-4dc8-fac2-dd46a3477792"
      },
      "id": "x9_KUk3gsx4W",
      "execution_count": 43,
      "outputs": [
        {
          "output_type": "execute_result",
          "data": {
            "text/plain": [
              "AlexNet(\n",
              "  (features): Sequential(\n",
              "    (0): Conv2d(3, 64, kernel_size=(11, 11), stride=(4, 4), padding=(2, 2))\n",
              "    (1): ReLU(inplace=True)\n",
              "    (2): MaxPool2d(kernel_size=3, stride=2, padding=0, dilation=1, ceil_mode=False)\n",
              "    (3): Conv2d(64, 192, kernel_size=(5, 5), stride=(1, 1), padding=(2, 2))\n",
              "    (4): ReLU(inplace=True)\n",
              "    (5): MaxPool2d(kernel_size=3, stride=2, padding=0, dilation=1, ceil_mode=False)\n",
              "    (6): Conv2d(192, 384, kernel_size=(3, 3), stride=(1, 1), padding=(1, 1))\n",
              "    (7): ReLU(inplace=True)\n",
              "    (8): Conv2d(384, 256, kernel_size=(3, 3), stride=(1, 1), padding=(1, 1))\n",
              "    (9): ReLU(inplace=True)\n",
              "    (10): Conv2d(256, 256, kernel_size=(3, 3), stride=(1, 1), padding=(1, 1))\n",
              "    (11): ReLU(inplace=True)\n",
              "    (12): MaxPool2d(kernel_size=3, stride=2, padding=0, dilation=1, ceil_mode=False)\n",
              "  )\n",
              "  (avgpool): AdaptiveAvgPool2d(output_size=(6, 6))\n",
              "  (classifier): Sequential(\n",
              "    (0): Dropout(p=0.5, inplace=False)\n",
              "    (1): Linear(in_features=9216, out_features=4096, bias=True)\n",
              "    (2): ReLU(inplace=True)\n",
              "    (3): Dropout(p=0.5, inplace=False)\n",
              "    (4): Linear(in_features=4096, out_features=4096, bias=True)\n",
              "    (5): ReLU(inplace=True)\n",
              "    (6): Linear(in_features=4096, out_features=10, bias=True)\n",
              "  )\n",
              ")"
            ]
          },
          "metadata": {},
          "execution_count": 43
        }
      ]
    },
    {
      "cell_type": "markdown",
      "source": [
        "## 4.2 Training"
      ],
      "metadata": {
        "id": "HGGTSO15V1Ef"
      },
      "id": "HGGTSO15V1Ef"
    },
    {
      "cell_type": "code",
      "execution_count": 44,
      "id": "8a4f1600",
      "metadata": {
        "id": "8a4f1600"
      },
      "outputs": [],
      "source": [
        "# initialize loss function and optimizer\n",
        "lossFunc = nn.CrossEntropyLoss()\n",
        "opt = torch.optim.SGD(model.parameters(), lr=0.001, momentum=0.9)"
      ]
    },
    {
      "cell_type": "code",
      "execution_count": 45,
      "id": "1a6dacc1",
      "metadata": {
        "id": "1a6dacc1",
        "outputId": "3fd7f660-1308-46ae-a96f-2b2186409d11",
        "colab": {
          "base_uri": "https://localhost:8080/",
          "height": 0
        }
      },
      "outputs": [
        {
          "output_type": "stream",
          "name": "stdout",
          "text": [
            "Training the network...\n"
          ]
        },
        {
          "output_type": "stream",
          "name": "stderr",
          "text": [
            "  1%|          | 1/100 [00:45<1:14:30, 45.16s/it]"
          ]
        },
        {
          "output_type": "stream",
          "name": "stdout",
          "text": [
            "EPOCH: 1/100\n",
            "Train loss: 2.301416, Train accuracy: 0.1091\n",
            "Val loss: 2.312643, Val accuracy: 0.1004\n"
          ]
        },
        {
          "output_type": "stream",
          "name": "stderr",
          "text": [
            "\r  2%|▏         | 2/100 [01:29<1:13:08, 44.78s/it]"
          ]
        },
        {
          "output_type": "stream",
          "name": "stdout",
          "text": [
            "EPOCH: 2/100\n",
            "Train loss: 2.208048, Train accuracy: 0.1575\n",
            "Val loss: 1.983002, Val accuracy: 0.2893\n"
          ]
        },
        {
          "output_type": "stream",
          "name": "stderr",
          "text": [
            "\r  3%|▎         | 3/100 [02:14<1:12:30, 44.85s/it]"
          ]
        },
        {
          "output_type": "stream",
          "name": "stdout",
          "text": [
            "EPOCH: 3/100\n",
            "Train loss: 1.842398, Train accuracy: 0.3235\n",
            "Val loss: 1.733970, Val accuracy: 0.3671\n"
          ]
        },
        {
          "output_type": "stream",
          "name": "stderr",
          "text": [
            "\r  4%|▍         | 4/100 [02:59<1:11:44, 44.84s/it]"
          ]
        },
        {
          "output_type": "stream",
          "name": "stdout",
          "text": [
            "EPOCH: 4/100\n",
            "Train loss: 1.646040, Train accuracy: 0.3932\n",
            "Val loss: 1.615554, Val accuracy: 0.4039\n"
          ]
        },
        {
          "output_type": "stream",
          "name": "stderr",
          "text": [
            "\r  5%|▌         | 5/100 [03:44<1:11:12, 44.98s/it]"
          ]
        },
        {
          "output_type": "stream",
          "name": "stdout",
          "text": [
            "EPOCH: 5/100\n",
            "Train loss: 1.526752, Train accuracy: 0.4410\n",
            "Val loss: 1.447977, Val accuracy: 0.4729\n"
          ]
        },
        {
          "output_type": "stream",
          "name": "stderr",
          "text": [
            "\r  6%|▌         | 6/100 [04:29<1:10:35, 45.06s/it]"
          ]
        },
        {
          "output_type": "stream",
          "name": "stdout",
          "text": [
            "EPOCH: 6/100\n",
            "Train loss: 1.427086, Train accuracy: 0.4803\n",
            "Val loss: 1.485503, Val accuracy: 0.4644\n"
          ]
        },
        {
          "output_type": "stream",
          "name": "stderr",
          "text": [
            "\r  7%|▋         | 7/100 [05:15<1:10:00, 45.17s/it]"
          ]
        },
        {
          "output_type": "stream",
          "name": "stdout",
          "text": [
            "EPOCH: 7/100\n",
            "Train loss: 1.343504, Train accuracy: 0.5177\n",
            "Val loss: 1.318880, Val accuracy: 0.5303\n"
          ]
        },
        {
          "output_type": "stream",
          "name": "stderr",
          "text": [
            "\r  8%|▊         | 8/100 [06:00<1:09:08, 45.09s/it]"
          ]
        },
        {
          "output_type": "stream",
          "name": "stdout",
          "text": [
            "EPOCH: 8/100\n",
            "Train loss: 1.266265, Train accuracy: 0.5473\n",
            "Val loss: 1.241635, Val accuracy: 0.5543\n"
          ]
        },
        {
          "output_type": "stream",
          "name": "stderr",
          "text": [
            "\r  9%|▉         | 9/100 [06:45<1:08:26, 45.12s/it]"
          ]
        },
        {
          "output_type": "stream",
          "name": "stdout",
          "text": [
            "EPOCH: 9/100\n",
            "Train loss: 1.178678, Train accuracy: 0.5803\n",
            "Val loss: 1.130861, Val accuracy: 0.6020\n"
          ]
        },
        {
          "output_type": "stream",
          "name": "stderr",
          "text": [
            "\r 10%|█         | 10/100 [07:30<1:07:43, 45.15s/it]"
          ]
        },
        {
          "output_type": "stream",
          "name": "stdout",
          "text": [
            "EPOCH: 10/100\n",
            "Train loss: 1.108219, Train accuracy: 0.6083\n",
            "Val loss: 1.077060, Val accuracy: 0.6215\n"
          ]
        },
        {
          "output_type": "stream",
          "name": "stderr",
          "text": [
            "\r 11%|█         | 11/100 [08:15<1:07:02, 45.19s/it]"
          ]
        },
        {
          "output_type": "stream",
          "name": "stdout",
          "text": [
            "EPOCH: 11/100\n",
            "Train loss: 1.040153, Train accuracy: 0.6338\n",
            "Val loss: 1.047933, Val accuracy: 0.6390\n"
          ]
        },
        {
          "output_type": "stream",
          "name": "stderr",
          "text": [
            "\r 12%|█▏        | 12/100 [09:01<1:06:19, 45.23s/it]"
          ]
        },
        {
          "output_type": "stream",
          "name": "stdout",
          "text": [
            "EPOCH: 12/100\n",
            "Train loss: 0.975140, Train accuracy: 0.6572\n",
            "Val loss: 0.940700, Val accuracy: 0.6716\n"
          ]
        },
        {
          "output_type": "stream",
          "name": "stderr",
          "text": [
            "\r 13%|█▎        | 13/100 [09:46<1:05:46, 45.36s/it]"
          ]
        },
        {
          "output_type": "stream",
          "name": "stdout",
          "text": [
            "EPOCH: 13/100\n",
            "Train loss: 0.916547, Train accuracy: 0.6812\n",
            "Val loss: 0.887368, Val accuracy: 0.6919\n"
          ]
        },
        {
          "output_type": "stream",
          "name": "stderr",
          "text": [
            "\r 14%|█▍        | 14/100 [10:32<1:05:02, 45.38s/it]"
          ]
        },
        {
          "output_type": "stream",
          "name": "stdout",
          "text": [
            "EPOCH: 14/100\n",
            "Train loss: 0.860085, Train accuracy: 0.6970\n",
            "Val loss: 0.887956, Val accuracy: 0.6953\n"
          ]
        },
        {
          "output_type": "stream",
          "name": "stderr",
          "text": [
            "\r 15%|█▌        | 15/100 [11:17<1:04:04, 45.23s/it]"
          ]
        },
        {
          "output_type": "stream",
          "name": "stdout",
          "text": [
            "EPOCH: 15/100\n",
            "Train loss: 0.811434, Train accuracy: 0.7177\n",
            "Val loss: 0.808587, Val accuracy: 0.7201\n"
          ]
        },
        {
          "output_type": "stream",
          "name": "stderr",
          "text": [
            "\r 16%|█▌        | 16/100 [12:02<1:03:19, 45.23s/it]"
          ]
        },
        {
          "output_type": "stream",
          "name": "stdout",
          "text": [
            "EPOCH: 16/100\n",
            "Train loss: 0.767858, Train accuracy: 0.7300\n",
            "Val loss: 0.776770, Val accuracy: 0.7291\n"
          ]
        },
        {
          "output_type": "stream",
          "name": "stderr",
          "text": [
            "\r 17%|█▋        | 17/100 [12:47<1:02:22, 45.09s/it]"
          ]
        },
        {
          "output_type": "stream",
          "name": "stdout",
          "text": [
            "EPOCH: 17/100\n",
            "Train loss: 0.721345, Train accuracy: 0.7479\n",
            "Val loss: 0.738223, Val accuracy: 0.7452\n"
          ]
        },
        {
          "output_type": "stream",
          "name": "stderr",
          "text": [
            "\r 18%|█▊        | 18/100 [13:32<1:01:39, 45.12s/it]"
          ]
        },
        {
          "output_type": "stream",
          "name": "stdout",
          "text": [
            "EPOCH: 18/100\n",
            "Train loss: 0.680208, Train accuracy: 0.7607\n",
            "Val loss: 0.735778, Val accuracy: 0.7493\n"
          ]
        },
        {
          "output_type": "stream",
          "name": "stderr",
          "text": [
            "\r 19%|█▉        | 19/100 [14:17<1:00:51, 45.08s/it]"
          ]
        },
        {
          "output_type": "stream",
          "name": "stdout",
          "text": [
            "EPOCH: 19/100\n",
            "Train loss: 0.637888, Train accuracy: 0.7762\n",
            "Val loss: 0.717068, Val accuracy: 0.7551\n"
          ]
        },
        {
          "output_type": "stream",
          "name": "stderr",
          "text": [
            "\r 20%|██        | 20/100 [15:02<1:00:03, 45.04s/it]"
          ]
        },
        {
          "output_type": "stream",
          "name": "stdout",
          "text": [
            "EPOCH: 20/100\n",
            "Train loss: 0.600681, Train accuracy: 0.7896\n",
            "Val loss: 0.665715, Val accuracy: 0.7694\n"
          ]
        },
        {
          "output_type": "stream",
          "name": "stderr",
          "text": [
            "\r 21%|██        | 21/100 [15:47<59:13, 44.98s/it]  "
          ]
        },
        {
          "output_type": "stream",
          "name": "stdout",
          "text": [
            "EPOCH: 21/100\n",
            "Train loss: 0.570881, Train accuracy: 0.7999\n",
            "Val loss: 0.639276, Val accuracy: 0.7823\n"
          ]
        },
        {
          "output_type": "stream",
          "name": "stderr",
          "text": [
            "\r 22%|██▏       | 22/100 [16:32<58:27, 44.97s/it]"
          ]
        },
        {
          "output_type": "stream",
          "name": "stdout",
          "text": [
            "EPOCH: 22/100\n",
            "Train loss: 0.542297, Train accuracy: 0.8112\n",
            "Val loss: 0.671630, Val accuracy: 0.7811\n"
          ]
        },
        {
          "output_type": "stream",
          "name": "stderr",
          "text": [
            "\r 23%|██▎       | 23/100 [17:17<57:44, 44.99s/it]"
          ]
        },
        {
          "output_type": "stream",
          "name": "stdout",
          "text": [
            "EPOCH: 23/100\n",
            "Train loss: 0.512712, Train accuracy: 0.8190\n",
            "Val loss: 0.658078, Val accuracy: 0.7809\n"
          ]
        },
        {
          "output_type": "stream",
          "name": "stderr",
          "text": [
            "\r 24%|██▍       | 24/100 [18:02<56:58, 44.98s/it]"
          ]
        },
        {
          "output_type": "stream",
          "name": "stdout",
          "text": [
            "EPOCH: 24/100\n",
            "Train loss: 0.478520, Train accuracy: 0.8308\n",
            "Val loss: 0.700667, Val accuracy: 0.7768\n"
          ]
        },
        {
          "output_type": "stream",
          "name": "stderr",
          "text": [
            "\r 25%|██▌       | 25/100 [18:47<56:23, 45.11s/it]"
          ]
        },
        {
          "output_type": "stream",
          "name": "stdout",
          "text": [
            "EPOCH: 25/100\n",
            "Train loss: 0.454006, Train accuracy: 0.8391\n",
            "Val loss: 0.615076, Val accuracy: 0.7952\n"
          ]
        },
        {
          "output_type": "stream",
          "name": "stderr",
          "text": [
            "\r 26%|██▌       | 26/100 [19:32<55:26, 44.95s/it]"
          ]
        },
        {
          "output_type": "stream",
          "name": "stdout",
          "text": [
            "EPOCH: 26/100\n",
            "Train loss: 0.429385, Train accuracy: 0.8487\n",
            "Val loss: 0.611777, Val accuracy: 0.8011\n"
          ]
        },
        {
          "output_type": "stream",
          "name": "stderr",
          "text": [
            "\r 27%|██▋       | 27/100 [20:16<54:40, 44.93s/it]"
          ]
        },
        {
          "output_type": "stream",
          "name": "stdout",
          "text": [
            "EPOCH: 27/100\n",
            "Train loss: 0.401654, Train accuracy: 0.8580\n",
            "Val loss: 0.592133, Val accuracy: 0.8064\n"
          ]
        },
        {
          "output_type": "stream",
          "name": "stderr",
          "text": [
            "\r 28%|██▊       | 28/100 [21:02<53:59, 45.00s/it]"
          ]
        },
        {
          "output_type": "stream",
          "name": "stdout",
          "text": [
            "EPOCH: 28/100\n",
            "Train loss: 0.373143, Train accuracy: 0.8678\n",
            "Val loss: 0.580421, Val accuracy: 0.8060\n"
          ]
        },
        {
          "output_type": "stream",
          "name": "stderr",
          "text": [
            "\r 29%|██▉       | 29/100 [21:47<53:14, 45.00s/it]"
          ]
        },
        {
          "output_type": "stream",
          "name": "stdout",
          "text": [
            "EPOCH: 29/100\n",
            "Train loss: 0.349597, Train accuracy: 0.8771\n",
            "Val loss: 0.646131, Val accuracy: 0.8001\n"
          ]
        },
        {
          "output_type": "stream",
          "name": "stderr",
          "text": [
            "\r 30%|███       | 30/100 [22:31<52:25, 44.93s/it]"
          ]
        },
        {
          "output_type": "stream",
          "name": "stdout",
          "text": [
            "EPOCH: 30/100\n",
            "Train loss: 0.328223, Train accuracy: 0.8845\n",
            "Val loss: 0.603733, Val accuracy: 0.8054\n"
          ]
        },
        {
          "output_type": "stream",
          "name": "stderr",
          "text": [
            "\r 31%|███       | 31/100 [23:16<51:40, 44.94s/it]"
          ]
        },
        {
          "output_type": "stream",
          "name": "stdout",
          "text": [
            "EPOCH: 31/100\n",
            "Train loss: 0.301993, Train accuracy: 0.8925\n",
            "Val loss: 0.610869, Val accuracy: 0.8071\n"
          ]
        },
        {
          "output_type": "stream",
          "name": "stderr",
          "text": [
            "\r 32%|███▏      | 32/100 [24:01<50:57, 44.96s/it]"
          ]
        },
        {
          "output_type": "stream",
          "name": "stdout",
          "text": [
            "EPOCH: 32/100\n",
            "Train loss: 0.285332, Train accuracy: 0.8992\n",
            "Val loss: 0.611026, Val accuracy: 0.8102\n"
          ]
        },
        {
          "output_type": "stream",
          "name": "stderr",
          "text": [
            "\r 33%|███▎      | 33/100 [24:46<50:14, 44.99s/it]"
          ]
        },
        {
          "output_type": "stream",
          "name": "stdout",
          "text": [
            "EPOCH: 33/100\n",
            "Train loss: 0.260987, Train accuracy: 0.9078\n",
            "Val loss: 0.589485, Val accuracy: 0.8155\n"
          ]
        },
        {
          "output_type": "stream",
          "name": "stderr",
          "text": [
            "\r 34%|███▍      | 34/100 [25:32<49:35, 45.08s/it]"
          ]
        },
        {
          "output_type": "stream",
          "name": "stdout",
          "text": [
            "EPOCH: 34/100\n",
            "Train loss: 0.245491, Train accuracy: 0.9120\n",
            "Val loss: 0.589654, Val accuracy: 0.8204\n"
          ]
        },
        {
          "output_type": "stream",
          "name": "stderr",
          "text": [
            "\r 35%|███▌      | 35/100 [26:16<48:44, 45.00s/it]"
          ]
        },
        {
          "output_type": "stream",
          "name": "stdout",
          "text": [
            "EPOCH: 35/100\n",
            "Train loss: 0.227793, Train accuracy: 0.9182\n",
            "Val loss: 0.603041, Val accuracy: 0.8152\n"
          ]
        },
        {
          "output_type": "stream",
          "name": "stderr",
          "text": [
            "\r 36%|███▌      | 36/100 [27:01<47:59, 44.99s/it]"
          ]
        },
        {
          "output_type": "stream",
          "name": "stdout",
          "text": [
            "EPOCH: 36/100\n",
            "Train loss: 0.209207, Train accuracy: 0.9247\n",
            "Val loss: 0.604176, Val accuracy: 0.8174\n"
          ]
        },
        {
          "output_type": "stream",
          "name": "stderr",
          "text": [
            "\r 37%|███▋      | 37/100 [27:47<47:21, 45.11s/it]"
          ]
        },
        {
          "output_type": "stream",
          "name": "stdout",
          "text": [
            "EPOCH: 37/100\n",
            "Train loss: 0.198277, Train accuracy: 0.9292\n",
            "Val loss: 0.610414, Val accuracy: 0.8189\n"
          ]
        },
        {
          "output_type": "stream",
          "name": "stderr",
          "text": [
            "\r 38%|███▊      | 38/100 [28:32<46:40, 45.16s/it]"
          ]
        },
        {
          "output_type": "stream",
          "name": "stdout",
          "text": [
            "EPOCH: 38/100\n",
            "Train loss: 0.177508, Train accuracy: 0.9372\n",
            "Val loss: 0.652145, Val accuracy: 0.8147\n"
          ]
        },
        {
          "output_type": "stream",
          "name": "stderr",
          "text": [
            "\r 39%|███▉      | 39/100 [29:18<45:58, 45.22s/it]"
          ]
        },
        {
          "output_type": "stream",
          "name": "stdout",
          "text": [
            "EPOCH: 39/100\n",
            "Train loss: 0.164764, Train accuracy: 0.9417\n",
            "Val loss: 0.627969, Val accuracy: 0.8197\n"
          ]
        },
        {
          "output_type": "stream",
          "name": "stderr",
          "text": [
            "\r 40%|████      | 40/100 [30:03<45:11, 45.18s/it]"
          ]
        },
        {
          "output_type": "stream",
          "name": "stdout",
          "text": [
            "EPOCH: 40/100\n",
            "Train loss: 0.151679, Train accuracy: 0.9456\n",
            "Val loss: 0.673303, Val accuracy: 0.8132\n"
          ]
        },
        {
          "output_type": "stream",
          "name": "stderr",
          "text": [
            "\r 41%|████      | 41/100 [30:48<44:23, 45.14s/it]"
          ]
        },
        {
          "output_type": "stream",
          "name": "stdout",
          "text": [
            "EPOCH: 41/100\n",
            "Train loss: 0.143712, Train accuracy: 0.9490\n",
            "Val loss: 0.634743, Val accuracy: 0.8242\n"
          ]
        },
        {
          "output_type": "stream",
          "name": "stderr",
          "text": [
            "\r 42%|████▏     | 42/100 [31:33<43:34, 45.07s/it]"
          ]
        },
        {
          "output_type": "stream",
          "name": "stdout",
          "text": [
            "EPOCH: 42/100\n",
            "Train loss: 0.134467, Train accuracy: 0.9526\n",
            "Val loss: 0.662584, Val accuracy: 0.8203\n"
          ]
        },
        {
          "output_type": "stream",
          "name": "stderr",
          "text": [
            "\r 43%|████▎     | 43/100 [32:18<42:50, 45.09s/it]"
          ]
        },
        {
          "output_type": "stream",
          "name": "stdout",
          "text": [
            "EPOCH: 43/100\n",
            "Train loss: 0.125035, Train accuracy: 0.9565\n",
            "Val loss: 0.668187, Val accuracy: 0.8227\n"
          ]
        },
        {
          "output_type": "stream",
          "name": "stderr",
          "text": [
            "\r 44%|████▍     | 44/100 [33:03<42:03, 45.07s/it]"
          ]
        },
        {
          "output_type": "stream",
          "name": "stdout",
          "text": [
            "EPOCH: 44/100\n",
            "Train loss: 0.115245, Train accuracy: 0.9580\n",
            "Val loss: 0.666464, Val accuracy: 0.8270\n"
          ]
        },
        {
          "output_type": "stream",
          "name": "stderr",
          "text": [
            "\r 45%|████▌     | 45/100 [33:48<41:24, 45.17s/it]"
          ]
        },
        {
          "output_type": "stream",
          "name": "stdout",
          "text": [
            "EPOCH: 45/100\n",
            "Train loss: 0.107650, Train accuracy: 0.9620\n",
            "Val loss: 0.703542, Val accuracy: 0.8187\n"
          ]
        },
        {
          "output_type": "stream",
          "name": "stderr",
          "text": [
            "\r 46%|████▌     | 46/100 [34:34<40:43, 45.25s/it]"
          ]
        },
        {
          "output_type": "stream",
          "name": "stdout",
          "text": [
            "EPOCH: 46/100\n",
            "Train loss: 0.099537, Train accuracy: 0.9651\n",
            "Val loss: 0.685278, Val accuracy: 0.8207\n"
          ]
        },
        {
          "output_type": "stream",
          "name": "stderr",
          "text": [
            "\r 47%|████▋     | 47/100 [35:19<40:01, 45.31s/it]"
          ]
        },
        {
          "output_type": "stream",
          "name": "stdout",
          "text": [
            "EPOCH: 47/100\n",
            "Train loss: 0.095233, Train accuracy: 0.9667\n",
            "Val loss: 0.712661, Val accuracy: 0.8152\n"
          ]
        },
        {
          "output_type": "stream",
          "name": "stderr",
          "text": [
            "\r 48%|████▊     | 48/100 [36:04<39:18, 45.36s/it]"
          ]
        },
        {
          "output_type": "stream",
          "name": "stdout",
          "text": [
            "EPOCH: 48/100\n",
            "Train loss: 0.091313, Train accuracy: 0.9683\n",
            "Val loss: 0.671822, Val accuracy: 0.8253\n"
          ]
        },
        {
          "output_type": "stream",
          "name": "stderr",
          "text": [
            "\r 49%|████▉     | 49/100 [36:49<38:28, 45.26s/it]"
          ]
        },
        {
          "output_type": "stream",
          "name": "stdout",
          "text": [
            "EPOCH: 49/100\n",
            "Train loss: 0.087929, Train accuracy: 0.9700\n",
            "Val loss: 0.682734, Val accuracy: 0.8257\n"
          ]
        },
        {
          "output_type": "stream",
          "name": "stderr",
          "text": [
            "\r 50%|█████     | 50/100 [37:35<37:42, 45.25s/it]"
          ]
        },
        {
          "output_type": "stream",
          "name": "stdout",
          "text": [
            "EPOCH: 50/100\n",
            "Train loss: 0.080018, Train accuracy: 0.9718\n",
            "Val loss: 0.734624, Val accuracy: 0.8235\n"
          ]
        },
        {
          "output_type": "stream",
          "name": "stderr",
          "text": [
            "\r 51%|█████     | 51/100 [38:20<36:56, 45.23s/it]"
          ]
        },
        {
          "output_type": "stream",
          "name": "stdout",
          "text": [
            "EPOCH: 51/100\n",
            "Train loss: 0.077514, Train accuracy: 0.9734\n",
            "Val loss: 0.754124, Val accuracy: 0.8205\n"
          ]
        },
        {
          "output_type": "stream",
          "name": "stderr",
          "text": [
            "\r 52%|█████▏    | 52/100 [39:05<36:10, 45.21s/it]"
          ]
        },
        {
          "output_type": "stream",
          "name": "stdout",
          "text": [
            "EPOCH: 52/100\n",
            "Train loss: 0.070702, Train accuracy: 0.9750\n",
            "Val loss: 0.754542, Val accuracy: 0.8232\n"
          ]
        },
        {
          "output_type": "stream",
          "name": "stderr",
          "text": [
            "\r 53%|█████▎    | 53/100 [39:51<35:29, 45.30s/it]"
          ]
        },
        {
          "output_type": "stream",
          "name": "stdout",
          "text": [
            "EPOCH: 53/100\n",
            "Train loss: 0.068742, Train accuracy: 0.9759\n",
            "Val loss: 0.705899, Val accuracy: 0.8274\n"
          ]
        },
        {
          "output_type": "stream",
          "name": "stderr",
          "text": [
            "\r 54%|█████▍    | 54/100 [40:36<34:42, 45.27s/it]"
          ]
        },
        {
          "output_type": "stream",
          "name": "stdout",
          "text": [
            "EPOCH: 54/100\n",
            "Train loss: 0.061737, Train accuracy: 0.9790\n",
            "Val loss: 0.728606, Val accuracy: 0.8255\n"
          ]
        },
        {
          "output_type": "stream",
          "name": "stderr",
          "text": [
            "\r 55%|█████▌    | 55/100 [41:21<33:53, 45.20s/it]"
          ]
        },
        {
          "output_type": "stream",
          "name": "stdout",
          "text": [
            "EPOCH: 55/100\n",
            "Train loss: 0.064953, Train accuracy: 0.9770\n",
            "Val loss: 0.747311, Val accuracy: 0.8255\n"
          ]
        },
        {
          "output_type": "stream",
          "name": "stderr",
          "text": [
            "\r 56%|█████▌    | 56/100 [42:06<33:11, 45.27s/it]"
          ]
        },
        {
          "output_type": "stream",
          "name": "stdout",
          "text": [
            "EPOCH: 56/100\n",
            "Train loss: 0.056053, Train accuracy: 0.9817\n",
            "Val loss: 0.771360, Val accuracy: 0.8279\n"
          ]
        },
        {
          "output_type": "stream",
          "name": "stderr",
          "text": [
            "\r 57%|█████▋    | 57/100 [42:52<32:30, 45.36s/it]"
          ]
        },
        {
          "output_type": "stream",
          "name": "stdout",
          "text": [
            "EPOCH: 57/100\n",
            "Train loss: 0.051381, Train accuracy: 0.9822\n",
            "Val loss: 0.726892, Val accuracy: 0.8307\n"
          ]
        },
        {
          "output_type": "stream",
          "name": "stderr",
          "text": [
            "\r 58%|█████▊    | 58/100 [43:37<31:45, 45.38s/it]"
          ]
        },
        {
          "output_type": "stream",
          "name": "stdout",
          "text": [
            "EPOCH: 58/100\n",
            "Train loss: 0.051365, Train accuracy: 0.9827\n",
            "Val loss: 0.717372, Val accuracy: 0.8332\n"
          ]
        },
        {
          "output_type": "stream",
          "name": "stderr",
          "text": [
            "\r 59%|█████▉    | 59/100 [44:23<31:03, 45.46s/it]"
          ]
        },
        {
          "output_type": "stream",
          "name": "stdout",
          "text": [
            "EPOCH: 59/100\n",
            "Train loss: 0.049827, Train accuracy: 0.9829\n",
            "Val loss: 0.745299, Val accuracy: 0.8272\n"
          ]
        },
        {
          "output_type": "stream",
          "name": "stderr",
          "text": [
            "\r 60%|██████    | 60/100 [45:08<30:15, 45.39s/it]"
          ]
        },
        {
          "output_type": "stream",
          "name": "stdout",
          "text": [
            "EPOCH: 60/100\n",
            "Train loss: 0.050004, Train accuracy: 0.9828\n",
            "Val loss: 0.747128, Val accuracy: 0.8296\n"
          ]
        },
        {
          "output_type": "stream",
          "name": "stderr",
          "text": [
            "\r 61%|██████    | 61/100 [45:53<29:27, 45.32s/it]"
          ]
        },
        {
          "output_type": "stream",
          "name": "stdout",
          "text": [
            "EPOCH: 61/100\n",
            "Train loss: 0.051449, Train accuracy: 0.9825\n",
            "Val loss: 0.750879, Val accuracy: 0.8278\n"
          ]
        },
        {
          "output_type": "stream",
          "name": "stderr",
          "text": [
            "\r 62%|██████▏   | 62/100 [46:39<28:45, 45.41s/it]"
          ]
        },
        {
          "output_type": "stream",
          "name": "stdout",
          "text": [
            "EPOCH: 62/100\n",
            "Train loss: 0.045913, Train accuracy: 0.9848\n",
            "Val loss: 0.769934, Val accuracy: 0.8289\n"
          ]
        },
        {
          "output_type": "stream",
          "name": "stderr",
          "text": [
            "\r 63%|██████▎   | 63/100 [47:24<28:00, 45.41s/it]"
          ]
        },
        {
          "output_type": "stream",
          "name": "stdout",
          "text": [
            "EPOCH: 63/100\n",
            "Train loss: 0.043295, Train accuracy: 0.9857\n",
            "Val loss: 0.836467, Val accuracy: 0.8242\n"
          ]
        },
        {
          "output_type": "stream",
          "name": "stderr",
          "text": [
            "\r 64%|██████▍   | 64/100 [48:09<27:06, 45.19s/it]"
          ]
        },
        {
          "output_type": "stream",
          "name": "stdout",
          "text": [
            "EPOCH: 64/100\n",
            "Train loss: 0.040221, Train accuracy: 0.9860\n",
            "Val loss: 0.809668, Val accuracy: 0.8308\n"
          ]
        },
        {
          "output_type": "stream",
          "name": "stderr",
          "text": [
            "\r 65%|██████▌   | 65/100 [48:54<26:20, 45.16s/it]"
          ]
        },
        {
          "output_type": "stream",
          "name": "stdout",
          "text": [
            "EPOCH: 65/100\n",
            "Train loss: 0.040377, Train accuracy: 0.9862\n",
            "Val loss: 0.762326, Val accuracy: 0.8325\n"
          ]
        },
        {
          "output_type": "stream",
          "name": "stderr",
          "text": [
            "\r 66%|██████▌   | 66/100 [49:39<25:35, 45.17s/it]"
          ]
        },
        {
          "output_type": "stream",
          "name": "stdout",
          "text": [
            "EPOCH: 66/100\n",
            "Train loss: 0.040763, Train accuracy: 0.9866\n",
            "Val loss: 0.782988, Val accuracy: 0.8266\n"
          ]
        },
        {
          "output_type": "stream",
          "name": "stderr",
          "text": [
            "\r 67%|██████▋   | 67/100 [50:25<24:52, 45.23s/it]"
          ]
        },
        {
          "output_type": "stream",
          "name": "stdout",
          "text": [
            "EPOCH: 67/100\n",
            "Train loss: 0.037962, Train accuracy: 0.9869\n",
            "Val loss: 0.784463, Val accuracy: 0.8285\n"
          ]
        },
        {
          "output_type": "stream",
          "name": "stderr",
          "text": [
            "\r 68%|██████▊   | 68/100 [51:10<24:06, 45.21s/it]"
          ]
        },
        {
          "output_type": "stream",
          "name": "stdout",
          "text": [
            "EPOCH: 68/100\n",
            "Train loss: 0.040275, Train accuracy: 0.9863\n",
            "Val loss: 0.757664, Val accuracy: 0.8291\n"
          ]
        },
        {
          "output_type": "stream",
          "name": "stderr",
          "text": [
            "\r 69%|██████▉   | 69/100 [51:55<23:24, 45.31s/it]"
          ]
        },
        {
          "output_type": "stream",
          "name": "stdout",
          "text": [
            "EPOCH: 69/100\n",
            "Train loss: 0.039060, Train accuracy: 0.9873\n",
            "Val loss: 0.763156, Val accuracy: 0.8355\n"
          ]
        },
        {
          "output_type": "stream",
          "name": "stderr",
          "text": [
            "\r 70%|███████   | 70/100 [52:41<22:40, 45.35s/it]"
          ]
        },
        {
          "output_type": "stream",
          "name": "stdout",
          "text": [
            "EPOCH: 70/100\n",
            "Train loss: 0.032513, Train accuracy: 0.9895\n",
            "Val loss: 0.805699, Val accuracy: 0.8293\n"
          ]
        },
        {
          "output_type": "stream",
          "name": "stderr",
          "text": [
            "\r 71%|███████   | 71/100 [53:26<21:52, 45.24s/it]"
          ]
        },
        {
          "output_type": "stream",
          "name": "stdout",
          "text": [
            "EPOCH: 71/100\n",
            "Train loss: 0.031249, Train accuracy: 0.9895\n",
            "Val loss: 0.806551, Val accuracy: 0.8308\n"
          ]
        },
        {
          "output_type": "stream",
          "name": "stderr",
          "text": [
            "\r 72%|███████▏  | 72/100 [54:11<21:10, 45.37s/it]"
          ]
        },
        {
          "output_type": "stream",
          "name": "stdout",
          "text": [
            "EPOCH: 72/100\n",
            "Train loss: 0.032589, Train accuracy: 0.9887\n",
            "Val loss: 0.807986, Val accuracy: 0.8307\n"
          ]
        },
        {
          "output_type": "stream",
          "name": "stderr",
          "text": [
            "\r 73%|███████▎  | 73/100 [54:57<20:25, 45.37s/it]"
          ]
        },
        {
          "output_type": "stream",
          "name": "stdout",
          "text": [
            "EPOCH: 73/100\n",
            "Train loss: 0.030426, Train accuracy: 0.9901\n",
            "Val loss: 0.843902, Val accuracy: 0.8295\n"
          ]
        },
        {
          "output_type": "stream",
          "name": "stderr",
          "text": [
            "\r 74%|███████▍  | 74/100 [55:42<19:36, 45.26s/it]"
          ]
        },
        {
          "output_type": "stream",
          "name": "stdout",
          "text": [
            "EPOCH: 74/100\n",
            "Train loss: 0.031833, Train accuracy: 0.9894\n",
            "Val loss: 0.805688, Val accuracy: 0.8323\n"
          ]
        },
        {
          "output_type": "stream",
          "name": "stderr",
          "text": [
            "\r 75%|███████▌  | 75/100 [56:27<18:49, 45.18s/it]"
          ]
        },
        {
          "output_type": "stream",
          "name": "stdout",
          "text": [
            "EPOCH: 75/100\n",
            "Train loss: 0.030950, Train accuracy: 0.9891\n",
            "Val loss: 0.813723, Val accuracy: 0.8287\n"
          ]
        },
        {
          "output_type": "stream",
          "name": "stderr",
          "text": [
            "\r 76%|███████▌  | 76/100 [57:12<18:04, 45.19s/it]"
          ]
        },
        {
          "output_type": "stream",
          "name": "stdout",
          "text": [
            "EPOCH: 76/100\n",
            "Train loss: 0.029207, Train accuracy: 0.9903\n",
            "Val loss: 0.808061, Val accuracy: 0.8339\n"
          ]
        },
        {
          "output_type": "stream",
          "name": "stderr",
          "text": [
            "\r 77%|███████▋  | 77/100 [57:57<17:20, 45.26s/it]"
          ]
        },
        {
          "output_type": "stream",
          "name": "stdout",
          "text": [
            "EPOCH: 77/100\n",
            "Train loss: 0.030549, Train accuracy: 0.9900\n",
            "Val loss: 0.804568, Val accuracy: 0.8354\n"
          ]
        },
        {
          "output_type": "stream",
          "name": "stderr",
          "text": [
            "\r 78%|███████▊  | 78/100 [58:43<16:37, 45.35s/it]"
          ]
        },
        {
          "output_type": "stream",
          "name": "stdout",
          "text": [
            "EPOCH: 78/100\n",
            "Train loss: 0.029609, Train accuracy: 0.9901\n",
            "Val loss: 0.842866, Val accuracy: 0.8311\n"
          ]
        },
        {
          "output_type": "stream",
          "name": "stderr",
          "text": [
            "\r 79%|███████▉  | 79/100 [59:28<15:50, 45.26s/it]"
          ]
        },
        {
          "output_type": "stream",
          "name": "stdout",
          "text": [
            "EPOCH: 79/100\n",
            "Train loss: 0.027036, Train accuracy: 0.9908\n",
            "Val loss: 0.800733, Val accuracy: 0.8322\n"
          ]
        },
        {
          "output_type": "stream",
          "name": "stderr",
          "text": [
            "\r 80%|████████  | 80/100 [1:00:14<15:06, 45.35s/it]"
          ]
        },
        {
          "output_type": "stream",
          "name": "stdout",
          "text": [
            "EPOCH: 80/100\n",
            "Train loss: 0.026462, Train accuracy: 0.9913\n",
            "Val loss: 0.850373, Val accuracy: 0.8339\n"
          ]
        },
        {
          "output_type": "stream",
          "name": "stderr",
          "text": [
            "\r 81%|████████  | 81/100 [1:00:59<14:21, 45.36s/it]"
          ]
        },
        {
          "output_type": "stream",
          "name": "stdout",
          "text": [
            "EPOCH: 81/100\n",
            "Train loss: 0.027074, Train accuracy: 0.9915\n",
            "Val loss: 0.823284, Val accuracy: 0.8347\n"
          ]
        },
        {
          "output_type": "stream",
          "name": "stderr",
          "text": [
            "\r 82%|████████▏ | 82/100 [1:01:44<13:35, 45.32s/it]"
          ]
        },
        {
          "output_type": "stream",
          "name": "stdout",
          "text": [
            "EPOCH: 82/100\n",
            "Train loss: 0.025701, Train accuracy: 0.9913\n",
            "Val loss: 0.813016, Val accuracy: 0.8344\n"
          ]
        },
        {
          "output_type": "stream",
          "name": "stderr",
          "text": [
            "\r 83%|████████▎ | 83/100 [1:02:30<12:51, 45.37s/it]"
          ]
        },
        {
          "output_type": "stream",
          "name": "stdout",
          "text": [
            "EPOCH: 83/100\n",
            "Train loss: 0.026194, Train accuracy: 0.9913\n",
            "Val loss: 0.779543, Val accuracy: 0.8377\n"
          ]
        },
        {
          "output_type": "stream",
          "name": "stderr",
          "text": [
            "\r 84%|████████▍ | 84/100 [1:03:15<12:05, 45.32s/it]"
          ]
        },
        {
          "output_type": "stream",
          "name": "stdout",
          "text": [
            "EPOCH: 84/100\n",
            "Train loss: 0.023812, Train accuracy: 0.9918\n",
            "Val loss: 0.813767, Val accuracy: 0.8344\n"
          ]
        },
        {
          "output_type": "stream",
          "name": "stderr",
          "text": [
            "\r 85%|████████▌ | 85/100 [1:04:00<11:19, 45.31s/it]"
          ]
        },
        {
          "output_type": "stream",
          "name": "stdout",
          "text": [
            "EPOCH: 85/100\n",
            "Train loss: 0.022467, Train accuracy: 0.9925\n",
            "Val loss: 0.815914, Val accuracy: 0.8338\n"
          ]
        },
        {
          "output_type": "stream",
          "name": "stderr",
          "text": [
            "\r 86%|████████▌ | 86/100 [1:04:45<10:32, 45.21s/it]"
          ]
        },
        {
          "output_type": "stream",
          "name": "stdout",
          "text": [
            "EPOCH: 86/100\n",
            "Train loss: 0.022069, Train accuracy: 0.9923\n",
            "Val loss: 0.856751, Val accuracy: 0.8334\n"
          ]
        },
        {
          "output_type": "stream",
          "name": "stderr",
          "text": [
            "\r 87%|████████▋ | 87/100 [1:05:30<09:46, 45.12s/it]"
          ]
        },
        {
          "output_type": "stream",
          "name": "stdout",
          "text": [
            "EPOCH: 87/100\n",
            "Train loss: 0.016868, Train accuracy: 0.9946\n",
            "Val loss: 0.876655, Val accuracy: 0.8359\n"
          ]
        },
        {
          "output_type": "stream",
          "name": "stderr",
          "text": [
            "\r 88%|████████▊ | 88/100 [1:06:15<09:01, 45.16s/it]"
          ]
        },
        {
          "output_type": "stream",
          "name": "stdout",
          "text": [
            "EPOCH: 88/100\n",
            "Train loss: 0.023847, Train accuracy: 0.9920\n",
            "Val loss: 0.830324, Val accuracy: 0.8348\n"
          ]
        },
        {
          "output_type": "stream",
          "name": "stderr",
          "text": [
            "\r 89%|████████▉ | 89/100 [1:07:01<08:17, 45.20s/it]"
          ]
        },
        {
          "output_type": "stream",
          "name": "stdout",
          "text": [
            "EPOCH: 89/100\n",
            "Train loss: 0.023659, Train accuracy: 0.9921\n",
            "Val loss: 0.846143, Val accuracy: 0.8329\n"
          ]
        },
        {
          "output_type": "stream",
          "name": "stderr",
          "text": [
            "\r 90%|█████████ | 90/100 [1:07:46<07:31, 45.17s/it]"
          ]
        },
        {
          "output_type": "stream",
          "name": "stdout",
          "text": [
            "EPOCH: 90/100\n",
            "Train loss: 0.018799, Train accuracy: 0.9935\n",
            "Val loss: 0.884381, Val accuracy: 0.8312\n"
          ]
        },
        {
          "output_type": "stream",
          "name": "stderr",
          "text": [
            "\r 91%|█████████ | 91/100 [1:08:30<06:45, 45.05s/it]"
          ]
        },
        {
          "output_type": "stream",
          "name": "stdout",
          "text": [
            "EPOCH: 91/100\n",
            "Train loss: 0.022320, Train accuracy: 0.9924\n",
            "Val loss: 0.815723, Val accuracy: 0.8370\n"
          ]
        },
        {
          "output_type": "stream",
          "name": "stderr",
          "text": [
            "\r 92%|█████████▏| 92/100 [1:09:15<06:00, 45.01s/it]"
          ]
        },
        {
          "output_type": "stream",
          "name": "stdout",
          "text": [
            "EPOCH: 92/100\n",
            "Train loss: 0.019959, Train accuracy: 0.9930\n",
            "Val loss: 0.835812, Val accuracy: 0.8368\n"
          ]
        },
        {
          "output_type": "stream",
          "name": "stderr",
          "text": [
            "\r 93%|█████████▎| 93/100 [1:10:01<05:15, 45.07s/it]"
          ]
        },
        {
          "output_type": "stream",
          "name": "stdout",
          "text": [
            "EPOCH: 93/100\n",
            "Train loss: 0.020712, Train accuracy: 0.9932\n",
            "Val loss: 0.858854, Val accuracy: 0.8359\n"
          ]
        },
        {
          "output_type": "stream",
          "name": "stderr",
          "text": [
            "\r 94%|█████████▍| 94/100 [1:10:45<04:30, 45.01s/it]"
          ]
        },
        {
          "output_type": "stream",
          "name": "stdout",
          "text": [
            "EPOCH: 94/100\n",
            "Train loss: 0.018895, Train accuracy: 0.9939\n",
            "Val loss: 0.812221, Val accuracy: 0.8357\n"
          ]
        },
        {
          "output_type": "stream",
          "name": "stderr",
          "text": [
            "\r 95%|█████████▌| 95/100 [1:11:30<03:44, 44.97s/it]"
          ]
        },
        {
          "output_type": "stream",
          "name": "stdout",
          "text": [
            "EPOCH: 95/100\n",
            "Train loss: 0.018844, Train accuracy: 0.9939\n",
            "Val loss: 0.878305, Val accuracy: 0.8364\n"
          ]
        },
        {
          "output_type": "stream",
          "name": "stderr",
          "text": [
            "\r 96%|█████████▌| 96/100 [1:12:15<02:59, 44.97s/it]"
          ]
        },
        {
          "output_type": "stream",
          "name": "stdout",
          "text": [
            "EPOCH: 96/100\n",
            "Train loss: 0.017592, Train accuracy: 0.9944\n",
            "Val loss: 0.846086, Val accuracy: 0.8378\n"
          ]
        },
        {
          "output_type": "stream",
          "name": "stderr",
          "text": [
            "\r 97%|█████████▋| 97/100 [1:13:00<02:14, 44.98s/it]"
          ]
        },
        {
          "output_type": "stream",
          "name": "stdout",
          "text": [
            "EPOCH: 97/100\n",
            "Train loss: 0.020387, Train accuracy: 0.9935\n",
            "Val loss: 0.867148, Val accuracy: 0.8338\n"
          ]
        },
        {
          "output_type": "stream",
          "name": "stderr",
          "text": [
            "\r 98%|█████████▊| 98/100 [1:13:46<01:30, 45.14s/it]"
          ]
        },
        {
          "output_type": "stream",
          "name": "stdout",
          "text": [
            "EPOCH: 98/100\n",
            "Train loss: 0.017013, Train accuracy: 0.9947\n",
            "Val loss: 0.851867, Val accuracy: 0.8349\n"
          ]
        },
        {
          "output_type": "stream",
          "name": "stderr",
          "text": [
            "\r 99%|█████████▉| 99/100 [1:14:31<00:45, 45.20s/it]"
          ]
        },
        {
          "output_type": "stream",
          "name": "stdout",
          "text": [
            "EPOCH: 99/100\n",
            "Train loss: 0.016387, Train accuracy: 0.9948\n",
            "Val loss: 0.896257, Val accuracy: 0.8317\n"
          ]
        },
        {
          "output_type": "stream",
          "name": "stderr",
          "text": [
            "100%|██████████| 100/100 [1:15:16<00:00, 45.16s/it]"
          ]
        },
        {
          "output_type": "stream",
          "name": "stdout",
          "text": [
            "EPOCH: 100/100\n",
            "Train loss: 0.017075, Train accuracy: 0.9944\n",
            "Val loss: 0.842777, Val accuracy: 0.8338\n",
            "Total time taken to train the model: 4516.36s\n"
          ]
        },
        {
          "output_type": "stream",
          "name": "stderr",
          "text": [
            "\n"
          ]
        }
      ],
      "source": [
        "# loop over epochs\n",
        "print(\"Training the network...\")\n",
        "startTime = time.time()\n",
        "for e in tqdm(range(EPOCHS)):\n",
        "    # set the model in training mode\n",
        "    model.train()\n",
        "\n",
        "    # initialize the total training and validation loss\n",
        "    totalTrainLoss = 0\n",
        "    totalValLoss = 0\n",
        "    old_avgValLoss = float(\"Inf\")\n",
        "\n",
        "    # initialize the number of correct predictions in the training\n",
        "    # and validation step\n",
        "    trainCorrect = 0\n",
        "    valCorrect = 0\n",
        "\n",
        "    # loop over the training set\n",
        "    for (i, (x, y)) in enumerate(train_dataloader):\n",
        "        # send the input to the device\n",
        "        (x, y) = (x.to(DEVICE), y.to(DEVICE))\n",
        "\n",
        "        # perform a forward pass and calculate the training loss\n",
        "        pred = model(x)\n",
        "        loss = lossFunc(pred, y)\n",
        "\n",
        "        opt.zero_grad()\n",
        "        loss.backward()\n",
        "        opt.step()\n",
        "\n",
        "        # add the loss to the total training loss so far and\n",
        "        # calculate the number of correct predictions\n",
        "        totalTrainLoss += loss\n",
        "        trainCorrect += (pred.argmax(1) == y).type(torch.float).sum().item() \n",
        "        H_batch[\"batch_train_loss\"].append(loss.cpu().detach().numpy())   \n",
        "    \n",
        "    # switch off autograd\n",
        "    with torch.no_grad():\n",
        "        # set the model in evaluation mode\n",
        "        model.eval()\n",
        "\n",
        "        # loop over the validation set\n",
        "        for (x, y) in val_dataloader:\n",
        "            # send the input to the device\n",
        "            (x, y) = (x.to(DEVICE), y.to(DEVICE))\n",
        "\n",
        "            # make the predictions and calculate the validation loss\n",
        "            pred = model(x)\n",
        "            totalValLoss += lossFunc(pred, y)\n",
        "\n",
        "            # calculate the number of correct predictions\n",
        "            valCorrect += (pred.argmax(1) == y).type(torch.float).sum().item()\n",
        "\n",
        "    # calculate the average training and validation loss\n",
        "    avgTrainLoss = totalTrainLoss / trainSteps\n",
        "    avgValLoss = totalValLoss / valSteps\n",
        "    if avgValLoss < old_avgValLoss:\n",
        "      # save model state\n",
        "      model_state = {\n",
        "        'model_state_dict': model.state_dict(),\n",
        "        'optimizer_state_dict': opt.state_dict(),\n",
        "      }\n",
        "      torch.save(model_state, STATE_PATH)\n",
        "      old_avgValLoss = avgValLoss\n",
        "\n",
        "    # calculate the training and validation accuracy\n",
        "    trainCorrect = trainCorrect / len(train_dataset)\n",
        "    valCorrect = valCorrect / len(val_dataset)\n",
        "\n",
        "    # update our training history\n",
        "    H[\"train_loss\"].append(avgTrainLoss.cpu().detach().numpy())\n",
        "    H[\"train_acc\"].append(trainCorrect)\n",
        "    H[\"val_loss\"].append(avgValLoss.cpu().detach().numpy())\n",
        "    H[\"val_acc\"].append(valCorrect)\n",
        "\n",
        "    # print the model training and validation information\n",
        "    print(\"EPOCH: {}/{}\".format(e + 1, EPOCHS))\n",
        "    print(\"Train loss: {:.6f}, Train accuracy: {:.4f}\".format(avgTrainLoss, trainCorrect))\n",
        "    print(\"Val loss: {:.6f}, Val accuracy: {:.4f}\".format(avgValLoss, valCorrect))\n",
        "\n",
        "# display the total time needed to perform the training\n",
        "endTime = time.time()\n",
        "training_time = endTime - startTime\n",
        "print(\"Total time taken to train the model: {:.2f}s\".format(training_time))\n"
      ]
    },
    {
      "cell_type": "code",
      "source": [
        "# serialize the model to disk\n",
        "torch.save(model, MODEL_PATH)"
      ],
      "metadata": {
        "id": "qAxGNRhjPCJ4"
      },
      "id": "qAxGNRhjPCJ4",
      "execution_count": 46,
      "outputs": []
    },
    {
      "cell_type": "code",
      "source": [
        "# serialize the history to disk\n",
        "saveObject = {\n",
        "    'train_losses': H_batch[\"batch_train_loss\"],\n",
        "    'avg_train_losses_per_epoch': H[\"train_loss\"],\n",
        "    'avg_val_losses_per_epoch': H[\"val_loss\"],\n",
        "    'avg_train_accs_per_epoch': H[\"train_acc\"],\n",
        "    'avg_val_accs_per_epoch': H[\"val_acc\"],\n",
        "    'training_time': training_time\n",
        "}\n",
        "\n",
        "torch.save(saveObject, HISTORY_PATH)"
      ],
      "metadata": {
        "id": "MLRtRWh_NYIh"
      },
      "id": "MLRtRWh_NYIh",
      "execution_count": 47,
      "outputs": []
    },
    {
      "cell_type": "code",
      "source": [
        "# plot the training and testing loss\n",
        "plt.style.use(\"ggplot\")\n",
        "plt.figure(figsize=(9.6,7.2))\n",
        "plt.plot(H[\"train_loss\"], label=\"train_loss\")\n",
        "plt.plot(H[\"val_loss\"], label=\"val_loss\")\n",
        "plt.title(\"AlexNet_CIFAR_ver1 - Model Training & Testing Loss \")\n",
        "plt.xlabel(\"Epoch #\")\n",
        "plt.ylabel(\"Loss\")\n",
        "plt.legend(loc=\"upper right\")\n",
        "plt.savefig(LOSS_PLOT_PATH)"
      ],
      "metadata": {
        "id": "4r0JALu5IA_E",
        "colab": {
          "base_uri": "https://localhost:8080/",
          "height": 473
        },
        "outputId": "d46966b1-3d06-4f56-ab35-26a541acff88"
      },
      "id": "4r0JALu5IA_E",
      "execution_count": 51,
      "outputs": [
        {
          "output_type": "display_data",
          "data": {
            "text/plain": [
              "<Figure size 691.2x518.4 with 1 Axes>"
            ],
            "image/png": "[encoded data removed]"
          },
          "metadata": {}
        }
      ]
    },
    {
      "cell_type": "code",
      "source": [
        "# plot the training and testing ccuracy\n",
        "plt.style.use(\"ggplot\")\n",
        "plt.figure(figsize=(9.6,7.2))\n",
        "plt.plot(H[\"train_acc\"], label=\"train_acc\")\n",
        "plt.plot(H[\"val_acc\"], label=\"val_acc\")\n",
        "plt.title(\"AlexNet_CIFAR_ver1 - Model Training & Testing Accuracy \")\n",
        "plt.xlabel(\"Epoch #\")\n",
        "plt.ylabel(\"Accuracy\")\n",
        "plt.legend(loc=\"lower left\")\n",
        "plt.savefig(ACC_PLOT_PATH)"
      ],
      "metadata": {
        "id": "_sYmHgsTIK7g",
        "colab": {
          "base_uri": "https://localhost:8080/",
          "height": 473
        },
        "outputId": "929489c0-aef4-4860-9627-ccb2c6eb5352"
      },
      "id": "_sYmHgsTIK7g",
      "execution_count": 50,
      "outputs": [
        {
          "output_type": "display_data",
          "data": {
            "text/plain": [
              "<Figure size 691.2x518.4 with 1 Axes>"
            ],
            "image/png": "[encoded data removed]"
          },
          "metadata": {}
        }
      ]
    },
    {
      "cell_type": "markdown",
      "source": [
        "#5. Test Set Accuracy"
      ],
      "metadata": {
        "id": "RKziIGr7qxry"
      },
      "id": "RKziIGr7qxry"
    },
    {
      "cell_type": "code",
      "source": [
        "testSteps = len(test_dataset) // PRED_BATCH_SIZE\n",
        "testCorrect = 0\n",
        "\n",
        "with torch.no_grad():\n",
        "      # set the model in evaluation mode\n",
        "      model.eval()\n",
        "\n",
        "      totalTestlCorrect = 0\n",
        "\n",
        "      # loop over the test set\n",
        "      for (x, y) in test_dataloader:\n",
        "          # send the input to the device\n",
        "          (x, y) = (x.to(DEVICE), y.to(DEVICE))\n",
        "\n",
        "          # make the predictions\n",
        "          pred = model(x)\n",
        "\n",
        "          # calculate the number of correct predictions\n",
        "          testCorrect += (pred.argmax(1) == y).type(torch.float).sum().item()\n",
        "\n",
        "# calculate the test accuracy\n",
        "testCorrect = testCorrect / len(test_dataset)"
      ],
      "metadata": {
        "id": "WLhK8V6qmMte"
      },
      "id": "WLhK8V6qmMte",
      "execution_count": 56,
      "outputs": []
    },
    {
      "cell_type": "code",
      "source": [
        "print('Test accuracy: ', testCorrect)"
      ],
      "metadata": {
        "colab": {
          "base_uri": "https://localhost:8080/",
          "height": 0
        },
        "id": "CDDKPpr1nsSu",
        "outputId": "19d81b4b-acdd-4760-ea58-cfa69f8093c6"
      },
      "id": "CDDKPpr1nsSu",
      "execution_count": 57,
      "outputs": [
        {
          "output_type": "stream",
          "name": "stdout",
          "text": [
            "Test accuracy:  0.8371\n"
          ]
        }
      ]
    },
    {
      "cell_type": "code",
      "source": [
        "def count_parameters(model):\n",
        "  params = [p.numel() for p in model.parameters() if p.requires_grad]\n",
        "  for item in params:\n",
        "      print(f'{item:>6}')\n",
        "  print(f'______\\n{sum(params):>6}')\n",
        "\n",
        "count_parameters(model)"
      ],
      "metadata": {
        "colab": {
          "base_uri": "https://localhost:8080/",
          "height": 0
        },
        "id": "q5qBbGKPyOI9",
        "outputId": "b57646b7-b562-4a5d-fc82-eb3267d4bfd5"
      },
      "id": "q5qBbGKPyOI9",
      "execution_count": 58,
      "outputs": [
        {
          "output_type": "stream",
          "name": "stdout",
          "text": [
            " 23232\n",
            "    64\n",
            "307200\n",
            "   192\n",
            "663552\n",
            "   384\n",
            "884736\n",
            "   256\n",
            "589824\n",
            "   256\n",
            "37748736\n",
            "  4096\n",
            "16777216\n",
            "  4096\n",
            " 40960\n",
            "    10\n",
            "______\n",
            "57044810\n"
          ]
        }
      ]
    },
    {
      "cell_type": "markdown",
      "source": [
        "# Discussion\n",
        "## Introduction\n",
        "In this lab exercise, I trained and evaluate the PyTorch AlexNet model (torchvision.models.alexnet) on the CIFAR-10 dataset\n",
        "\n",
        "## Background\n",
        "AlexNet is a deep convolutional neural network (CNN) that was developed by Alex Krizhevsky, Ilya Sutskever, and Geoffrey Hinton in 2012. It was the first CNN to win the ImageNet Large Scale Visual Recognition Challenge (ILSVRC). The 2012 AlexNet version was trained on a dataset of over 1.2 million images and achieved a top-5 error rate of 15.3%.\n",
        "\n",
        "The network consists of 8 layers, including 5 convolutional layers and 3 fully connected layers. The convolutional layers are used to extract features from the input images, while the fully connected layers are used to classify the images based on those features. The network also uses pooling layers to reduce the spatial resolution of the feature maps and rectified linear units (ReLU) as the activation function.\n",
        "\n",
        "Some of the key features of Alexnet are:\n",
        "*   Use of ReLU activation function: AlexNet utilizes the ReLU activation function, which has been found to improve the performance of deep neural networks.\n",
        "\n",
        "*   Local Response Normalization (LRN): AlexNet uses LRN to normalize the activations of neurons within a local region, which helps to reduce overfitting.\n",
        "\n",
        "*   Dropout regularization: AlexNet uses dropout to prevent overfitting by randomly dropping out neurons during training.\n",
        "\n",
        "*   Split into multiple GPUs: AlexNet was designed to be trained on multiple GPUs, allowing for faster training times.\n",
        "\n",
        "*   Overlapping pooling: AlexNet uses overlapping pooling, which has been found to improve the performance of CNNs on image classification tasks.\n",
        "\n",
        "The success of AlexNet led to an increased interest in deep CNNs and their application in computer vision tasks.\n",
        "\n",
        "[Ref: [ImageNet Classification with Deep Convolutional\n",
        "Neural Networks](https://papers.nips.cc/paper/2012/file/c399862d3b9d6b76c8436e924a68c45b-Paper.pdf)]\n",
        "\n",
        "## Goal\n",
        "The primary goal of this experiment was to train and evaluate PyTorch's  AlexNet model architecture available at torchvision.models.alexnet on the CIFAR-10 dataset. This implementation is based on the paper \"[One weird trick for parallelizing convolutional neural networks](https://arxiv.org/abs/1404.5997)\" rather than the original publication referenced above.\n",
        "\n",
        "## Method\n",
        "\n",
        "Method followed in this experiment is outlined in the following steps.\n",
        "\n",
        "**Step 1**: Define the data transformations.\n",
        "*   The CIFAR-10 dataset consists of 60000 32x32 color images in 10 classes, with 6000 images per class. There are 50000 training images and 10000 test images.\n",
        "[Ref: [The CIFAR-10 dataset](https://www.cs.toronto.edu/~kriz/cifar.html)]\n",
        "*   To be as close as to the data preprocessing performed by the AlexNet inventors, in this exercise, I resize the 32x32 images to 256x256, obtain a center crop of size 224. The resulting image was then transformed to a Tensor which will convert the images in PIL Images of the dataset in the range [0, 255] to a torch.FloatTensor of shape (C x H x W) in the range [0.0, 1.0]. Finally, the resulting Tensors are normalized using mean and the standard deviation values over the three channels (R, G, B) for the CIFAR-10 dataset(mean:[0.4914, 0.4822, 0.4465], std:[0.2470, 0.2435, 0.2616]).\n",
        "*   These same data transformations were applied to the images in the training, validation, and testing datasets.\n",
        "\n",
        "\n",
        "**Step 2**: Prepare the dataloaders\n",
        "*   In this step I downloaded the training and testing datasets for CIFAR-10. The 50000 images in the training dataset is again split into 40000 and 10000 as the training and validation datasets.\n",
        "\n",
        "**Step 3**: Initialize the model\n",
        "*   In this step I initialized the AlexNet implementation provided in torchvision module as `torchvision.models.alexnet(weights=None)`. \n",
        "\n",
        "*   I selected the `weights=None` since the goal of this experiment was to train AlexNet weights for the CIFAR-10 dataset. \n",
        "\n",
        "*   Further, for all the model parameters I set `requires_grad = True`, since I wanted to optimize the AlexNet weights from scratch.\n",
        "\n",
        "**Step 4**: Train and evaluate the model\n",
        "I trained the model for 100 epochs. CrossEntropyLoss was used as the loss function and stochastic gradient descent(SGD) was used as the optimizer with a leaning rate of 0.001, and a momentum of 0.9\n",
        "\n",
        "While training the model state/parameters with the best validation results was serialized and saved to the disk.\n",
        " \n",
        "\n",
        "## Results\n",
        "*   Behaviour of model training and validation loss over the epochs is explained in the figure \"AlexNet_CIFAR_ver1 - Model Training & Testing Loss\" above. Similarly, the behavior of training and validation accuracy over the epochs is explained in the figure \"AlexNet_CIFAR_ver1 - Model Training & Testing Accuracy\".\n",
        "*   Analyzing these two graphs we can clearly see that the model overfits after around 20 epochs.\n",
        "*   After training of 100 epochs even though training accuracy reached 99.48%, the maximum validation accuracy was 83.78%. The best version of the model saved to the disk gave 83.71% accuracy on the test dataset.\n",
        "\n",
        "## Conclusion\n",
        "*   In this exercise I attempted to train and evaluate the AlexNet implementation provided in PyTorch's torchvision module from scratch. Thus no pre-trained weights were used. Further, I un-freeze all model parameters such that the parameters of all layers will get updated during model training.\n",
        "*   Unfortunately the experiment resulted in model overfitting. When I analyzed the total number of parameters trained during this experiment it was 57044810. But the training dataset only had 40000 images, which is clearly not sufficient enough to train 57044810 parameters.\n",
        "*   If more data transformations were used to increase the number of training samples, and instead of Adam optimizer was experimented instead of SGD serious model overfitting may have been avoided leading to better test accuracies.\n"
      ],
      "metadata": {
        "id": "noeg3n6-iDmk"
      },
      "id": "noeg3n6-iDmk"
    }
  ],
  "metadata": {
    "kernelspec": {
      "display_name": "Python 3 (ipykernel)",
      "language": "python",
      "name": "python3"
    },
    "language_info": {
      "codemirror_mode": {
        "name": "ipython",
        "version": 3
      },
      "file_extension": ".py",
      "mimetype": "text/x-python",
      "name": "python",
      "nbconvert_exporter": "python",
      "pygments_lexer": "ipython3",
      "version": "3.9.12"
    },
    "colab": {
      "provenance": [],
      "include_colab_link": true
    },
    "gpuClass": "standard",
    "widgets": {
      "application/vnd.jupyter.widget-state+json": {
        "54c7c720f17e47108996860f111f14fe": {
          "model_module": "@jupyter-widgets/controls",
          "model_name": "HBoxModel",
          "model_module_version": "1.5.0",
          "state": {
            "_dom_classes": [],
            "_model_module": "@jupyter-widgets/controls",
            "_model_module_version": "1.5.0",
            "_model_name": "HBoxModel",
            "_view_count": null,
            "_view_module": "@jupyter-widgets/controls",
            "_view_module_version": "1.5.0",
            "_view_name": "HBoxView",
            "box_style": "",
            "children": [
              "IPY_MODEL_c6e6c27188cd46ceaaa497b05d708431",
              "IPY_MODEL_cc03b7cc89d34c5ca10c743b4768bdb7",
              "IPY_MODEL_239e71fe9b1e43dca47a756fb24faf1b"
            ],
            "layout": "IPY_MODEL_673ce35f594c468fbccd45d539367331"
          }
        },
        "c6e6c27188cd46ceaaa497b05d708431": {
          "model_module": "@jupyter-widgets/controls",
          "model_name": "HTMLModel",
          "model_module_version": "1.5.0",
          "state": {
            "_dom_classes": [],
            "_model_module": "@jupyter-widgets/controls",
            "_model_module_version": "1.5.0",
            "_model_name": "HTMLModel",
            "_view_count": null,
            "_view_module": "@jupyter-widgets/controls",
            "_view_module_version": "1.5.0",
            "_view_name": "HTMLView",
            "description": "",
            "description_tooltip": null,
            "layout": "IPY_MODEL_251daf17599049ef827f5b429c51473f",
            "placeholder": "​",
            "style": "IPY_MODEL_d7c1849e121843d387d841f3a0aa1f56",
            "value": "100%"
          }
        },
        "cc03b7cc89d34c5ca10c743b4768bdb7": {
          "model_module": "@jupyter-widgets/controls",
          "model_name": "FloatProgressModel",
          "model_module_version": "1.5.0",
          "state": {
            "_dom_classes": [],
            "_model_module": "@jupyter-widgets/controls",
            "_model_module_version": "1.5.0",
            "_model_name": "FloatProgressModel",
            "_view_count": null,
            "_view_module": "@jupyter-widgets/controls",
            "_view_module_version": "1.5.0",
            "_view_name": "ProgressView",
            "bar_style": "success",
            "description": "",
            "description_tooltip": null,
            "layout": "IPY_MODEL_41665bc57326441c90e0071ffe36e73f",
            "max": 170498071,
            "min": 0,
            "orientation": "horizontal",
            "style": "IPY_MODEL_5f4b9f2fcdd34da9bd72668b5e0dbf6a",
            "value": 170498071
          }
        },
        "239e71fe9b1e43dca47a756fb24faf1b": {
          "model_module": "@jupyter-widgets/controls",
          "model_name": "HTMLModel",
          "model_module_version": "1.5.0",
          "state": {
            "_dom_classes": [],
            "_model_module": "@jupyter-widgets/controls",
            "_model_module_version": "1.5.0",
            "_model_name": "HTMLModel",
            "_view_count": null,
            "_view_module": "@jupyter-widgets/controls",
            "_view_module_version": "1.5.0",
            "_view_name": "HTMLView",
            "description": "",
            "description_tooltip": null,
            "layout": "IPY_MODEL_d501bbda52dd440686835a432951c365",
            "placeholder": "​",
            "style": "IPY_MODEL_b3227221b46d43a492455ceab7f911aa",
            "value": " 170498071/170498071 [00:13&lt;00:00, 14701532.73it/s]"
          }
        },
        "673ce35f594c468fbccd45d539367331": {
          "model_module": "@jupyter-widgets/base",
          "model_name": "LayoutModel",
          "model_module_version": "1.2.0",
          "state": {
            "_model_module": "@jupyter-widgets/base",
            "_model_module_version": "1.2.0",
            "_model_name": "LayoutModel",
            "_view_count": null,
            "_view_module": "@jupyter-widgets/base",
            "_view_module_version": "1.2.0",
            "_view_name": "LayoutView",
            "align_content": null,
            "align_items": null,
            "align_self": null,
            "border": null,
            "bottom": null,
            "display": null,
            "flex": null,
            "flex_flow": null,
            "grid_area": null,
            "grid_auto_columns": null,
            "grid_auto_flow": null,
            "grid_auto_rows": null,
            "grid_column": null,
            "grid_gap": null,
            "grid_row": null,
            "grid_template_areas": null,
            "grid_template_columns": null,
            "grid_template_rows": null,
            "height": null,
            "justify_content": null,
            "justify_items": null,
            "left": null,
            "margin": null,
            "max_height": null,
            "max_width": null,
            "min_height": null,
            "min_width": null,
            "object_fit": null,
            "object_position": null,
            "order": null,
            "overflow": null,
            "overflow_x": null,
            "overflow_y": null,
            "padding": null,
            "right": null,
            "top": null,
            "visibility": null,
            "width": null
          }
        },
        "251daf17599049ef827f5b429c51473f": {
          "model_module": "@jupyter-widgets/base",
          "model_name": "LayoutModel",
          "model_module_version": "1.2.0",
          "state": {
            "_model_module": "@jupyter-widgets/base",
            "_model_module_version": "1.2.0",
            "_model_name": "LayoutModel",
            "_view_count": null,
            "_view_module": "@jupyter-widgets/base",
            "_view_module_version": "1.2.0",
            "_view_name": "LayoutView",
            "align_content": null,
            "align_items": null,
            "align_self": null,
            "border": null,
            "bottom": null,
            "display": null,
            "flex": null,
            "flex_flow": null,
            "grid_area": null,
            "grid_auto_columns": null,
            "grid_auto_flow": null,
            "grid_auto_rows": null,
            "grid_column": null,
            "grid_gap": null,
            "grid_row": null,
            "grid_template_areas": null,
            "grid_template_columns": null,
            "grid_template_rows": null,
            "height": null,
            "justify_content": null,
            "justify_items": null,
            "left": null,
            "margin": null,
            "max_height": null,
            "max_width": null,
            "min_height": null,
            "min_width": null,
            "object_fit": null,
            "object_position": null,
            "order": null,
            "overflow": null,
            "overflow_x": null,
            "overflow_y": null,
            "padding": null,
            "right": null,
            "top": null,
            "visibility": null,
            "width": null
          }
        },
        "d7c1849e121843d387d841f3a0aa1f56": {
          "model_module": "@jupyter-widgets/controls",
          "model_name": "DescriptionStyleModel",
          "model_module_version": "1.5.0",
          "state": {
            "_model_module": "@jupyter-widgets/controls",
            "_model_module_version": "1.5.0",
            "_model_name": "DescriptionStyleModel",
            "_view_count": null,
            "_view_module": "@jupyter-widgets/base",
            "_view_module_version": "1.2.0",
            "_view_name": "StyleView",
            "description_width": ""
          }
        },
        "41665bc57326441c90e0071ffe36e73f": {
          "model_module": "@jupyter-widgets/base",
          "model_name": "LayoutModel",
          "model_module_version": "1.2.0",
          "state": {
            "_model_module": "@jupyter-widgets/base",
            "_model_module_version": "1.2.0",
            "_model_name": "LayoutModel",
            "_view_count": null,
            "_view_module": "@jupyter-widgets/base",
            "_view_module_version": "1.2.0",
            "_view_name": "LayoutView",
            "align_content": null,
            "align_items": null,
            "align_self": null,
            "border": null,
            "bottom": null,
            "display": null,
            "flex": null,
            "flex_flow": null,
            "grid_area": null,
            "grid_auto_columns": null,
            "grid_auto_flow": null,
            "grid_auto_rows": null,
            "grid_column": null,
            "grid_gap": null,
            "grid_row": null,
            "grid_template_areas": null,
            "grid_template_columns": null,
            "grid_template_rows": null,
            "height": null,
            "justify_content": null,
            "justify_items": null,
            "left": null,
            "margin": null,
            "max_height": null,
            "max_width": null,
            "min_height": null,
            "min_width": null,
            "object_fit": null,
            "object_position": null,
            "order": null,
            "overflow": null,
            "overflow_x": null,
            "overflow_y": null,
            "padding": null,
            "right": null,
            "top": null,
            "visibility": null,
            "width": null
          }
        },
        "5f4b9f2fcdd34da9bd72668b5e0dbf6a": {
          "model_module": "@jupyter-widgets/controls",
          "model_name": "ProgressStyleModel",
          "model_module_version": "1.5.0",
          "state": {
            "_model_module": "@jupyter-widgets/controls",
            "_model_module_version": "1.5.0",
            "_model_name": "ProgressStyleModel",
            "_view_count": null,
            "_view_module": "@jupyter-widgets/base",
            "_view_module_version": "1.2.0",
            "_view_name": "StyleView",
            "bar_color": null,
            "description_width": ""
          }
        },
        "d501bbda52dd440686835a432951c365": {
          "model_module": "@jupyter-widgets/base",
          "model_name": "LayoutModel",
          "model_module_version": "1.2.0",
          "state": {
            "_model_module": "@jupyter-widgets/base",
            "_model_module_version": "1.2.0",
            "_model_name": "LayoutModel",
            "_view_count": null,
            "_view_module": "@jupyter-widgets/base",
            "_view_module_version": "1.2.0",
            "_view_name": "LayoutView",
            "align_content": null,
            "align_items": null,
            "align_self": null,
            "border": null,
            "bottom": null,
            "display": null,
            "flex": null,
            "flex_flow": null,
            "grid_area": null,
            "grid_auto_columns": null,
            "grid_auto_flow": null,
            "grid_auto_rows": null,
            "grid_column": null,
            "grid_gap": null,
            "grid_row": null,
            "grid_template_areas": null,
            "grid_template_columns": null,
            "grid_template_rows": null,
            "height": null,
            "justify_content": null,
            "justify_items": null,
            "left": null,
            "margin": null,
            "max_height": null,
            "max_width": null,
            "min_height": null,
            "min_width": null,
            "object_fit": null,
            "object_position": null,
            "order": null,
            "overflow": null,
            "overflow_x": null,
            "overflow_y": null,
            "padding": null,
            "right": null,
            "top": null,
            "visibility": null,
            "width": null
          }
        },
        "b3227221b46d43a492455ceab7f911aa": {
          "model_module": "@jupyter-widgets/controls",
          "model_name": "DescriptionStyleModel",
          "model_module_version": "1.5.0",
          "state": {
            "_model_module": "@jupyter-widgets/controls",
            "_model_module_version": "1.5.0",
            "_model_name": "DescriptionStyleModel",
            "_view_count": null,
            "_view_module": "@jupyter-widgets/base",
            "_view_module_version": "1.2.0",
            "_view_name": "StyleView",
            "description_width": ""
          }
        }
      }
    }
  },
  "nbformat": 4,
  "nbformat_minor": 5
}