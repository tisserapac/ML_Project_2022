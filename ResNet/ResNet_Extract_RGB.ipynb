{
 "cells": [
  {
   "cell_type": "code",
   "execution_count": 19,
   "id": "9b18086b",
   "metadata": {},
   "outputs": [],
   "source": [
    "import os\n",
    "import cv2"
   ]
  },
  {
   "cell_type": "code",
   "execution_count": 20,
   "id": "af16158f",
   "metadata": {},
   "outputs": [],
   "source": [
    "directory = os.fsencode(r\"../EuroSATallBands\")\n",
    "\n",
    "for file in os.listdir(directory):\n",
    "    filename = os.fsdecode(file)\n",
    "    if filename.endswith(\".tif\"):\n",
    "        print(filename)\n",
    "        print(type(filename))\n",
    "        print(\"\\n\")\n",
    "        image = cv2.imread(filename)\n",
    "        cv2.imwrite(\"{}.jpg\".format(filename), image)\n",
    "        break\n",
    "    else:\n",
    "        continue"
   ]
  },
  {
   "cell_type": "code",
   "execution_count": 21,
   "id": "ce529705",
   "metadata": {},
   "outputs": [],
   "source": [
    "#!pip install opencv-contrib-python"
   ]
  },
  {
   "cell_type": "code",
   "execution_count": 22,
   "id": "37545c3b",
   "metadata": {},
   "outputs": [
    {
     "name": "stdout",
     "output_type": "stream",
     "text": [
      "['../EuroSATallBands/ds/images/remote_sensing/otherDatasets/sentinel_2/tif/River/River_984.tif', '../EuroSATallBands/ds/images/remote_sensing/otherDatasets/sentinel_2/tif/River/River_729.tif', '../EuroSATallBands/ds/images/remote_sensing/otherDatasets/sentinel_2/tif/River/River_756.tif', '../EuroSATallBands/ds/images/remote_sensing/otherDatasets/sentinel_2/tif/River/River_759.tif', '../EuroSATallBands/ds/images/remote_sensing/otherDatasets/sentinel_2/tif/River/River_1051.tif']\n",
      "27000\n"
     ]
    }
   ],
   "source": [
    "path = '../EuroSATallBands/'\n",
    "\n",
    "imagenames = []\n",
    "for folder, subfolders, filenames in os.walk(path):\n",
    "    for img in filenames:\n",
    "        imagenames.append(folder + \"/\" + img)\n",
    "\n",
    "print(imagenames[:5])\n",
    "print(len(imagenames))"
   ]
  },
  {
   "cell_type": "code",
   "execution_count": null,
   "id": "e8aaac12",
   "metadata": {},
   "outputs": [],
   "source": [
    "# from PIL import Image\n",
    "\n",
    "# img_path = r\"path\\to\\image.tif\"\n",
    "\n",
    "# # open the image and convert to 3-channel RGB\n",
    "# img = Image.open(img_path).convert('RGB')\n",
    "# img.save(outpath)\n",
    "\n",
    "# # get the image data\n",
    "# data = img.getdata()"
   ]
  },
  {
   "cell_type": "code",
   "execution_count": 24,
   "id": "974070f8",
   "metadata": {},
   "outputs": [
    {
     "ename": "UnidentifiedImageError",
     "evalue": "cannot identify image file '../EuroSATallBands/ds/images/remote_sensing/otherDatasets/sentinel_2/tif/River/River_984.tif'",
     "output_type": "error",
     "traceback": [
      "\u001b[0;31m---------------------------------------------------------------------------\u001b[0m",
      "\u001b[0;31mUnidentifiedImageError\u001b[0m                    Traceback (most recent call last)",
      "Input \u001b[0;32mIn [24]\u001b[0m, in \u001b[0;36m<cell line: 6>\u001b[0;34m()\u001b[0m\n\u001b[1;32m     10\u001b[0m Path(out_img_path)\u001b[38;5;241m.\u001b[39mmkdir(parents\u001b[38;5;241m=\u001b[39m\u001b[38;5;28;01mTrue\u001b[39;00m, exist_ok\u001b[38;5;241m=\u001b[39m\u001b[38;5;28;01mTrue\u001b[39;00m)\n\u001b[1;32m     11\u001b[0m \u001b[38;5;28;01mif\u001b[39;00m out_img_file_path\u001b[38;5;241m.\u001b[39mendswith(\u001b[38;5;124m\"\u001b[39m\u001b[38;5;124m.tif\u001b[39m\u001b[38;5;124m\"\u001b[39m):\n\u001b[0;32m---> 12\u001b[0m     img \u001b[38;5;241m=\u001b[39m \u001b[43mImage\u001b[49m\u001b[38;5;241;43m.\u001b[39;49m\u001b[43mopen\u001b[49m\u001b[43m(\u001b[49m\u001b[43mimg_name\u001b[49m\u001b[43m)\u001b[49m\u001b[38;5;241m.\u001b[39mconvert(\u001b[38;5;124m'\u001b[39m\u001b[38;5;124mRGB\u001b[39m\u001b[38;5;124m'\u001b[39m)\n\u001b[1;32m     13\u001b[0m     img\u001b[38;5;241m.\u001b[39msave(out_img_file_path)\n\u001b[1;32m     14\u001b[0m     \u001b[38;5;28;01mbreak\u001b[39;00m\n",
      "File \u001b[0;32m~/anaconda3/lib/python3.9/site-packages/PIL/Image.py:3008\u001b[0m, in \u001b[0;36mopen\u001b[0;34m(fp, mode, formats)\u001b[0m\n\u001b[1;32m   3006\u001b[0m \u001b[38;5;28;01mfor\u001b[39;00m message \u001b[38;5;129;01min\u001b[39;00m accept_warnings:\n\u001b[1;32m   3007\u001b[0m     warnings\u001b[38;5;241m.\u001b[39mwarn(message)\n\u001b[0;32m-> 3008\u001b[0m \u001b[38;5;28;01mraise\u001b[39;00m UnidentifiedImageError(\n\u001b[1;32m   3009\u001b[0m     \u001b[38;5;124m\"\u001b[39m\u001b[38;5;124mcannot identify image file \u001b[39m\u001b[38;5;132;01m%r\u001b[39;00m\u001b[38;5;124m\"\u001b[39m \u001b[38;5;241m%\u001b[39m (filename \u001b[38;5;28;01mif\u001b[39;00m filename \u001b[38;5;28;01melse\u001b[39;00m fp)\n\u001b[1;32m   3010\u001b[0m )\n",
      "\u001b[0;31mUnidentifiedImageError\u001b[0m: cannot identify image file '../EuroSATallBands/ds/images/remote_sensing/otherDatasets/sentinel_2/tif/River/River_984.tif'"
     ]
    }
   ],
   "source": [
    "from pathlib import Path\n",
    "from PIL import Image\n",
    "\n",
    "out_path = '../EuroSAT-RGB/'\n",
    "\n",
    "for img_name in imagenames:\n",
    "    path_components = img_name.split(\"/\")\n",
    "    out_img_path = out_path + path_components[-2]\n",
    "    out_img_file_path = out_path + path_components[-2] + '/' + path_components[-1]\n",
    "    Path(out_img_path).mkdir(parents=True, exist_ok=True)\n",
    "    if out_img_file_path.endswith(\".tif\"):\n",
    "        img = Image.open(img_name).convert('RGB')\n",
    "        img.save(out_img_file_path)\n",
    "        break\n",
    "\n",
    "        "
   ]
  },
  {
   "cell_type": "code",
   "execution_count": null,
   "id": "fd5f1f80",
   "metadata": {},
   "outputs": [],
   "source": []
  }
 ],
 "metadata": {
  "kernelspec": {
   "display_name": "Python 3 (ipykernel)",
   "language": "python",
   "name": "python3"
  },
  "language_info": {
   "codemirror_mode": {
    "name": "ipython",
    "version": 3
   },
   "file_extension": ".py",
   "mimetype": "text/x-python",
   "name": "python",
   "nbconvert_exporter": "python",
   "pygments_lexer": "ipython3",
   "version": "3.9.12"
  }
 },
 "nbformat": 4,
 "nbformat_minor": 5
}
