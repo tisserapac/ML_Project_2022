{
 "cells": [
  {
   "cell_type": "code",
   "execution_count": 198,
   "id": "bd813db5",
   "metadata": {},
   "outputs": [],
   "source": [
    "#Import the necessary packages\n",
    "from torch.utils.data import DataLoader\n",
    "from torchvision import datasets\n",
    "from torchvision.models import resnet50\n",
    "from torchvision import transforms\n",
    "from tqdm import tqdm\n",
    "from torch import nn\n",
    "import matplotlib.pyplot as plt\n",
    "import numpy as np\n",
    "import shutil\n",
    "import torch\n",
    "import time\n",
    "import os"
   ]
  },
  {
   "cell_type": "code",
   "execution_count": 199,
   "id": "0ea7de4f",
   "metadata": {},
   "outputs": [],
   "source": [
    "#Specify ImageNet mean and standard deviation and image size\n",
    "MEAN = [0.485, 0.456, 0.406]\n",
    "STD = [0.229, 0.224, 0.225]\n",
    "IMAGE_SIZE = 224\n",
    "\n",
    "# determine the device to be used for training and evaluation\n",
    "DEVICE = \"cuda\" if torch.cuda.is_available() else \"cpu\"\n",
    "\n",
    "DATA_PATH = \"../EuroSAT_RGB\"\n",
    "BASE_PATH = \"../dataset\"\n",
    "\n",
    "#/home/anjana/Courses/Aug_2022/ML_Project_2022/data/EuroSAT_RGB/AnnualCrop\n",
    "\n",
    "# define validation split and paths to separate train and validation\n",
    "# splits\n",
    "VAL_SPLIT = 0.2\n",
    "TEST_SPLIT = 0.1\n",
    "TRAIN_SPLIT = 0.7\n",
    "TRAIN = os.path.join(BASE_PATH, \"train\")\n",
    "TEST = os.path.join(BASE_PATH, \"test\")\n",
    "VAL = os.path.join(BASE_PATH, \"val\")\n",
    "\n",
    "# specify training hyperparameters\n",
    "BATCH_SIZE = 64\n",
    "PRED_BATCH_SIZE = 4\n",
    "EPOCHS = 1\n",
    "LR = 0.001\n",
    "#LR_FINETUNE = 0.0005"
   ]
  },
  {
   "cell_type": "code",
   "execution_count": 200,
   "id": "4b3d843d",
   "metadata": {},
   "outputs": [],
   "source": [
    "image_types = (\".jpg\", \".jpeg\", \".png\", \".bmp\", \".tif\", \".tiff\")\n",
    "\n",
    "\n",
    "def list_images(basePath, contains=None):\n",
    "    # return the set of files that are valid\n",
    "    return list_files(basePath, validExts=image_types, contains=contains)\n",
    "\n",
    "\n",
    "def list_files(basePath, validExts=None, contains=None):\n",
    "    # loop over the directory structure\n",
    "    for (rootDir, dirNames, filenames) in os.walk(basePath):\n",
    "        # loop over the filenames in the current directory\n",
    "        for filename in filenames:\n",
    "            # if the contains string is not none and the filename does not contain\n",
    "            # the supplied string, then ignore the file\n",
    "            if contains is not None and filename.find(contains) == -1:\n",
    "                continue\n",
    "\n",
    "            # determine the file extension of the current file\n",
    "            ext = filename[filename.rfind(\".\"):].lower()\n",
    "\n",
    "            # check to see if the file is an image and should be processed\n",
    "            if validExts is None or ext.endswith(validExts):\n",
    "                # construct the path to the image and yield it\n",
    "                imagePath = os.path.join(rootDir, filename)\n",
    "                yield imagePath"
   ]
  },
  {
   "cell_type": "code",
   "execution_count": 203,
   "id": "10950633",
   "metadata": {},
   "outputs": [],
   "source": [
    "def copy_images(imagePaths, folder):\n",
    "    # check if the destination folder exists and if not create it\n",
    "    if not os.path.exists(folder):\n",
    "        os.makedirs(folder)\n",
    "\n",
    "    # loop over the image paths\n",
    "    for path in imagePaths:\n",
    "        # grab image name and its label from the path and create\n",
    "        # a placeholder corresponding to the separate label folder\n",
    "        imageName = path.split(os.path.sep)[-1]\n",
    "        label = path.split(os.path.sep)[-2]\n",
    "        labelFolder = os.path.join(folder, label)\n",
    "\n",
    "        # check to see if the label folder exists and if not create it\n",
    "        if not os.path.exists(labelFolder):\n",
    "            os.makedirs(labelFolder)\n",
    "\n",
    "        # construct the destination image path and copy the current\n",
    "        # image to it\n",
    "        destination = os.path.join(labelFolder, imageName)\n",
    "        shutil.copy(path, destination)"
   ]
  },
  {
   "cell_type": "code",
   "execution_count": 204,
   "id": "53e2f82d",
   "metadata": {},
   "outputs": [
    {
     "name": "stdout",
     "output_type": "stream",
     "text": [
      "[INFO] loading image paths...\n"
     ]
    }
   ],
   "source": [
    "print(\"[INFO] loading image paths...\")\n",
    "imagePaths = list(list_images(DATA_PATH))\n",
    "np.random.seed(999)\n",
    "np.random.shuffle(imagePaths)"
   ]
  },
  {
   "cell_type": "code",
   "execution_count": 205,
   "id": "500e442f",
   "metadata": {},
   "outputs": [
    {
     "data": {
      "text/plain": [
       "27000"
      ]
     },
     "execution_count": 205,
     "metadata": {},
     "output_type": "execute_result"
    }
   ],
   "source": [
    "len(imagePaths)"
   ]
  },
  {
   "cell_type": "code",
   "execution_count": 206,
   "id": "06842ebe",
   "metadata": {},
   "outputs": [
    {
     "name": "stdout",
     "output_type": "stream",
     "text": [
      "[INFO] copying training and validation images...\n"
     ]
    }
   ],
   "source": [
    "# generate training and validation paths\n",
    "valPathsLen = int(len(imagePaths) * VAL_SPLIT)\n",
    "testPathsLen = int(len(imagePaths) * TEST_SPLIT)\n",
    "trainPathsLen = len(imagePaths) - (valPathsLen+testPathsLen)\n",
    "trainValPathsLen = trainPathsLen+valPathsLen\n",
    "trainPaths = imagePaths[:trainPathsLen]\n",
    "valPaths = imagePaths[trainPathsLen:trainValPathsLen]\n",
    "testPaths = imagePaths[trainValPathsLen:]\n",
    "\n",
    "# copy the training and validation images to their respective\n",
    "# directories\n",
    "print(\"[INFO] copying training and validation images...\")\n",
    "copy_images(trainPaths, TRAIN)\n",
    "copy_images(valPaths, VAL)\n",
    "copy_images(testPaths, TEST)"
   ]
  },
  {
   "cell_type": "code",
   "execution_count": null,
   "id": "67b5a90d",
   "metadata": {},
   "outputs": [],
   "source": []
  },
  {
   "cell_type": "code",
   "execution_count": null,
   "id": "f41114bc",
   "metadata": {},
   "outputs": [],
   "source": []
  },
  {
   "cell_type": "code",
   "execution_count": null,
   "id": "fbec5c11",
   "metadata": {},
   "outputs": [],
   "source": []
  },
  {
   "cell_type": "code",
   "execution_count": null,
   "id": "79a5cacc",
   "metadata": {},
   "outputs": [],
   "source": []
  },
  {
   "cell_type": "code",
   "execution_count": null,
   "id": "846b0048",
   "metadata": {},
   "outputs": [],
   "source": []
  }
 ],
 "metadata": {
  "kernelspec": {
   "display_name": "Python 3 (ipykernel)",
   "language": "python",
   "name": "python3"
  },
  "language_info": {
   "codemirror_mode": {
    "name": "ipython",
    "version": 3
   },
   "file_extension": ".py",
   "mimetype": "text/x-python",
   "name": "python",
   "nbconvert_exporter": "python",
   "pygments_lexer": "ipython3",
   "version": "3.9.12"
  }
 },
 "nbformat": 4,
 "nbformat_minor": 5
}
